{
 "cells": [
  {
   "cell_type": "markdown",
   "source": [
    "## Algorithm to Generate Room"
   ],
   "metadata": {}
  },
  {
   "cell_type": "code",
   "execution_count": 2,
   "source": [
    "list_room = []   \r\n",
    "for i in range(1,101):\r\n",
    "    if(i<10):\r\n",
    "        dados = \"?room=stress-fr-00\"+str(i)+\"&lang=fr\"\r\n",
    "    elif(i > 9 and i < 100):\r\n",
    "        dados = \"?room=stress-0\"+str(i)\r\n",
    "    else:\r\n",
    "        dados = \"?room=stress-\"+str(i)\r\n",
    "    list_room.append(dados)\r\n",
    "\r\n",
    "print(list_room)\r\n",
    "print('\\nQtd: '+str(len(list_room)) + ' Generate Room')"
   ],
   "outputs": [
    {
     "output_type": "stream",
     "name": "stdout",
     "text": [
      "['?room=stress-fr-001&lang=fr', '?room=stress-fr-002&lang=fr', '?room=stress-fr-003&lang=fr', '?room=stress-fr-004&lang=fr', '?room=stress-fr-005&lang=fr', '?room=stress-fr-006&lang=fr', '?room=stress-fr-007&lang=fr', '?room=stress-fr-008&lang=fr', '?room=stress-fr-009&lang=fr', '?room=stress-010', '?room=stress-011', '?room=stress-012', '?room=stress-013', '?room=stress-014', '?room=stress-015', '?room=stress-016', '?room=stress-017', '?room=stress-018', '?room=stress-019', '?room=stress-020', '?room=stress-021', '?room=stress-022', '?room=stress-023', '?room=stress-024', '?room=stress-025', '?room=stress-026', '?room=stress-027', '?room=stress-028', '?room=stress-029', '?room=stress-030', '?room=stress-031', '?room=stress-032', '?room=stress-033', '?room=stress-034', '?room=stress-035', '?room=stress-036', '?room=stress-037', '?room=stress-038', '?room=stress-039', '?room=stress-040', '?room=stress-041', '?room=stress-042', '?room=stress-043', '?room=stress-044', '?room=stress-045', '?room=stress-046', '?room=stress-047', '?room=stress-048', '?room=stress-049', '?room=stress-050', '?room=stress-051', '?room=stress-052', '?room=stress-053', '?room=stress-054', '?room=stress-055', '?room=stress-056', '?room=stress-057', '?room=stress-058', '?room=stress-059', '?room=stress-060', '?room=stress-061', '?room=stress-062', '?room=stress-063', '?room=stress-064', '?room=stress-065', '?room=stress-066', '?room=stress-067', '?room=stress-068', '?room=stress-069', '?room=stress-070', '?room=stress-071', '?room=stress-072', '?room=stress-073', '?room=stress-074', '?room=stress-075', '?room=stress-076', '?room=stress-077', '?room=stress-078', '?room=stress-079', '?room=stress-080', '?room=stress-081', '?room=stress-082', '?room=stress-083', '?room=stress-084', '?room=stress-085', '?room=stress-086', '?room=stress-087', '?room=stress-088', '?room=stress-089', '?room=stress-090', '?room=stress-091', '?room=stress-092', '?room=stress-093', '?room=stress-094', '?room=stress-095', '?room=stress-096', '?room=stress-097', '?room=stress-098', '?room=stress-099', '?room=stress-100']\n",
      "\n",
      "Qtd: 100 Generate Room\n"
     ]
    }
   ],
   "metadata": {}
  },
  {
   "cell_type": "code",
   "execution_count": 2,
   "source": [
    "list_email = []   \r\n",
    "for i in range(1,101):\r\n",
    "    dados = \"ns.test.bulk.\"+str(i)+\"@yopmail.com\"\r\n",
    "    list_email.append(dados)\r\n",
    "\r\n",
    "print(list_email)\r\n",
    "print('\\nQtd: '+str(len(list_email)) + ' Generate emails')\r\n"
   ],
   "outputs": [
    {
     "output_type": "stream",
     "name": "stdout",
     "text": [
      "['ns.test.bulk.1@yopmail.com', 'ns.test.bulk.2@yopmail.com', 'ns.test.bulk.3@yopmail.com', 'ns.test.bulk.4@yopmail.com', 'ns.test.bulk.5@yopmail.com', 'ns.test.bulk.6@yopmail.com', 'ns.test.bulk.7@yopmail.com', 'ns.test.bulk.8@yopmail.com', 'ns.test.bulk.9@yopmail.com', 'ns.test.bulk.10@yopmail.com', 'ns.test.bulk.11@yopmail.com', 'ns.test.bulk.12@yopmail.com', 'ns.test.bulk.13@yopmail.com', 'ns.test.bulk.14@yopmail.com', 'ns.test.bulk.15@yopmail.com', 'ns.test.bulk.16@yopmail.com', 'ns.test.bulk.17@yopmail.com', 'ns.test.bulk.18@yopmail.com', 'ns.test.bulk.19@yopmail.com', 'ns.test.bulk.20@yopmail.com', 'ns.test.bulk.21@yopmail.com', 'ns.test.bulk.22@yopmail.com', 'ns.test.bulk.23@yopmail.com', 'ns.test.bulk.24@yopmail.com', 'ns.test.bulk.25@yopmail.com', 'ns.test.bulk.26@yopmail.com', 'ns.test.bulk.27@yopmail.com', 'ns.test.bulk.28@yopmail.com', 'ns.test.bulk.29@yopmail.com', 'ns.test.bulk.30@yopmail.com', 'ns.test.bulk.31@yopmail.com', 'ns.test.bulk.32@yopmail.com', 'ns.test.bulk.33@yopmail.com', 'ns.test.bulk.34@yopmail.com', 'ns.test.bulk.35@yopmail.com', 'ns.test.bulk.36@yopmail.com', 'ns.test.bulk.37@yopmail.com', 'ns.test.bulk.38@yopmail.com', 'ns.test.bulk.39@yopmail.com', 'ns.test.bulk.40@yopmail.com', 'ns.test.bulk.41@yopmail.com', 'ns.test.bulk.42@yopmail.com', 'ns.test.bulk.43@yopmail.com', 'ns.test.bulk.44@yopmail.com', 'ns.test.bulk.45@yopmail.com', 'ns.test.bulk.46@yopmail.com', 'ns.test.bulk.47@yopmail.com', 'ns.test.bulk.48@yopmail.com', 'ns.test.bulk.49@yopmail.com', 'ns.test.bulk.50@yopmail.com', 'ns.test.bulk.51@yopmail.com', 'ns.test.bulk.52@yopmail.com', 'ns.test.bulk.53@yopmail.com', 'ns.test.bulk.54@yopmail.com', 'ns.test.bulk.55@yopmail.com', 'ns.test.bulk.56@yopmail.com', 'ns.test.bulk.57@yopmail.com', 'ns.test.bulk.58@yopmail.com', 'ns.test.bulk.59@yopmail.com', 'ns.test.bulk.60@yopmail.com', 'ns.test.bulk.61@yopmail.com', 'ns.test.bulk.62@yopmail.com', 'ns.test.bulk.63@yopmail.com', 'ns.test.bulk.64@yopmail.com', 'ns.test.bulk.65@yopmail.com', 'ns.test.bulk.66@yopmail.com', 'ns.test.bulk.67@yopmail.com', 'ns.test.bulk.68@yopmail.com', 'ns.test.bulk.69@yopmail.com', 'ns.test.bulk.70@yopmail.com', 'ns.test.bulk.71@yopmail.com', 'ns.test.bulk.72@yopmail.com', 'ns.test.bulk.73@yopmail.com', 'ns.test.bulk.74@yopmail.com', 'ns.test.bulk.75@yopmail.com', 'ns.test.bulk.76@yopmail.com', 'ns.test.bulk.77@yopmail.com', 'ns.test.bulk.78@yopmail.com', 'ns.test.bulk.79@yopmail.com', 'ns.test.bulk.80@yopmail.com', 'ns.test.bulk.81@yopmail.com', 'ns.test.bulk.82@yopmail.com', 'ns.test.bulk.83@yopmail.com', 'ns.test.bulk.84@yopmail.com', 'ns.test.bulk.85@yopmail.com', 'ns.test.bulk.86@yopmail.com', 'ns.test.bulk.87@yopmail.com', 'ns.test.bulk.88@yopmail.com', 'ns.test.bulk.89@yopmail.com', 'ns.test.bulk.90@yopmail.com', 'ns.test.bulk.91@yopmail.com', 'ns.test.bulk.92@yopmail.com', 'ns.test.bulk.93@yopmail.com', 'ns.test.bulk.94@yopmail.com', 'ns.test.bulk.95@yopmail.com', 'ns.test.bulk.96@yopmail.com', 'ns.test.bulk.97@yopmail.com', 'ns.test.bulk.98@yopmail.com', 'ns.test.bulk.99@yopmail.com', 'ns.test.bulk.100@yopmail.com']\n",
      "\n",
      "Qtd: 100 Generate emails\n"
     ]
    }
   ],
   "metadata": {}
  },
  {
   "cell_type": "code",
   "execution_count": 5,
   "source": [
    "list_email = []   \r\n",
    "for i in range(1,101):\r\n",
    "    dados = \"ns.test.stress.\"+str(i)+\"@yopmail.com\"\r\n",
    "    list_email.append(dados)\r\n",
    "\r\n",
    "print(list_email)\r\n",
    "print('\\nQtd: '+str(len(list_email)) + ' Generate emails')\r\n"
   ],
   "outputs": [
    {
     "output_type": "stream",
     "name": "stdout",
     "text": [
      "['ns.test.test.1@yopmail.com', 'ns.test.test.2@yopmail.com', 'ns.test.test.3@yopmail.com', 'ns.test.test.4@yopmail.com', 'ns.test.test.5@yopmail.com', 'ns.test.test.6@yopmail.com', 'ns.test.test.7@yopmail.com', 'ns.test.test.8@yopmail.com', 'ns.test.test.9@yopmail.com', 'ns.test.test.10@yopmail.com', 'ns.test.test.11@yopmail.com', 'ns.test.test.12@yopmail.com', 'ns.test.test.13@yopmail.com', 'ns.test.test.14@yopmail.com', 'ns.test.test.15@yopmail.com', 'ns.test.test.16@yopmail.com', 'ns.test.test.17@yopmail.com', 'ns.test.test.18@yopmail.com', 'ns.test.test.19@yopmail.com', 'ns.test.test.20@yopmail.com', 'ns.test.test.21@yopmail.com', 'ns.test.test.22@yopmail.com', 'ns.test.test.23@yopmail.com', 'ns.test.test.24@yopmail.com', 'ns.test.test.25@yopmail.com', 'ns.test.test.26@yopmail.com', 'ns.test.test.27@yopmail.com', 'ns.test.test.28@yopmail.com', 'ns.test.test.29@yopmail.com', 'ns.test.test.30@yopmail.com', 'ns.test.test.31@yopmail.com', 'ns.test.test.32@yopmail.com', 'ns.test.test.33@yopmail.com', 'ns.test.test.34@yopmail.com', 'ns.test.test.35@yopmail.com', 'ns.test.test.36@yopmail.com', 'ns.test.test.37@yopmail.com', 'ns.test.test.38@yopmail.com', 'ns.test.test.39@yopmail.com', 'ns.test.test.40@yopmail.com', 'ns.test.test.41@yopmail.com', 'ns.test.test.42@yopmail.com', 'ns.test.test.43@yopmail.com', 'ns.test.test.44@yopmail.com', 'ns.test.test.45@yopmail.com', 'ns.test.test.46@yopmail.com', 'ns.test.test.47@yopmail.com', 'ns.test.test.48@yopmail.com', 'ns.test.test.49@yopmail.com', 'ns.test.test.50@yopmail.com', 'ns.test.test.51@yopmail.com', 'ns.test.test.52@yopmail.com', 'ns.test.test.53@yopmail.com', 'ns.test.test.54@yopmail.com', 'ns.test.test.55@yopmail.com', 'ns.test.test.56@yopmail.com', 'ns.test.test.57@yopmail.com', 'ns.test.test.58@yopmail.com', 'ns.test.test.59@yopmail.com', 'ns.test.test.60@yopmail.com', 'ns.test.test.61@yopmail.com', 'ns.test.test.62@yopmail.com', 'ns.test.test.63@yopmail.com', 'ns.test.test.64@yopmail.com', 'ns.test.test.65@yopmail.com', 'ns.test.test.66@yopmail.com', 'ns.test.test.67@yopmail.com', 'ns.test.test.68@yopmail.com', 'ns.test.test.69@yopmail.com', 'ns.test.test.70@yopmail.com', 'ns.test.test.71@yopmail.com', 'ns.test.test.72@yopmail.com', 'ns.test.test.73@yopmail.com', 'ns.test.test.74@yopmail.com', 'ns.test.test.75@yopmail.com', 'ns.test.test.76@yopmail.com', 'ns.test.test.77@yopmail.com', 'ns.test.test.78@yopmail.com', 'ns.test.test.79@yopmail.com', 'ns.test.test.80@yopmail.com', 'ns.test.test.81@yopmail.com', 'ns.test.test.82@yopmail.com', 'ns.test.test.83@yopmail.com', 'ns.test.test.84@yopmail.com', 'ns.test.test.85@yopmail.com', 'ns.test.test.86@yopmail.com', 'ns.test.test.87@yopmail.com', 'ns.test.test.88@yopmail.com', 'ns.test.test.89@yopmail.com', 'ns.test.test.90@yopmail.com', 'ns.test.test.91@yopmail.com', 'ns.test.test.92@yopmail.com', 'ns.test.test.93@yopmail.com', 'ns.test.test.94@yopmail.com', 'ns.test.test.95@yopmail.com', 'ns.test.test.96@yopmail.com', 'ns.test.test.97@yopmail.com', 'ns.test.test.98@yopmail.com', 'ns.test.test.99@yopmail.com', 'ns.test.test.100@yopmail.com']\n",
      "\n",
      "Qtd: 100 Generate emails\n"
     ]
    }
   ],
   "metadata": {}
  },
  {
   "cell_type": "code",
   "execution_count": 4,
   "source": [
    "list_name = []   \r\n",
    "for i in range(1,101):\r\n",
    "    dados = \"Jhon_\"+str(i)\r\n",
    "    list_name.append(dados)\r\n",
    "\r\n",
    "print(list_name)\r\n",
    "print('\\nQtd: '+str(len(list_name)) + ' Generate Names')\r\n"
   ],
   "outputs": [
    {
     "output_type": "stream",
     "name": "stdout",
     "text": [
      "['Jhon_1', 'Jhon_2', 'Jhon_3', 'Jhon_4', 'Jhon_5', 'Jhon_6', 'Jhon_7', 'Jhon_8', 'Jhon_9', 'Jhon_10', 'Jhon_11', 'Jhon_12', 'Jhon_13', 'Jhon_14', 'Jhon_15', 'Jhon_16', 'Jhon_17', 'Jhon_18', 'Jhon_19', 'Jhon_20', 'Jhon_21', 'Jhon_22', 'Jhon_23', 'Jhon_24', 'Jhon_25', 'Jhon_26', 'Jhon_27', 'Jhon_28', 'Jhon_29', 'Jhon_30', 'Jhon_31', 'Jhon_32', 'Jhon_33', 'Jhon_34', 'Jhon_35', 'Jhon_36', 'Jhon_37', 'Jhon_38', 'Jhon_39', 'Jhon_40', 'Jhon_41', 'Jhon_42', 'Jhon_43', 'Jhon_44', 'Jhon_45', 'Jhon_46', 'Jhon_47', 'Jhon_48', 'Jhon_49', 'Jhon_50', 'Jhon_51', 'Jhon_52', 'Jhon_53', 'Jhon_54', 'Jhon_55', 'Jhon_56', 'Jhon_57', 'Jhon_58', 'Jhon_59', 'Jhon_60', 'Jhon_61', 'Jhon_62', 'Jhon_63', 'Jhon_64', 'Jhon_65', 'Jhon_66', 'Jhon_67', 'Jhon_68', 'Jhon_69', 'Jhon_70', 'Jhon_71', 'Jhon_72', 'Jhon_73', 'Jhon_74', 'Jhon_75', 'Jhon_76', 'Jhon_77', 'Jhon_78', 'Jhon_79', 'Jhon_80', 'Jhon_81', 'Jhon_82', 'Jhon_83', 'Jhon_84', 'Jhon_85', 'Jhon_86', 'Jhon_87', 'Jhon_88', 'Jhon_89', 'Jhon_90', 'Jhon_91', 'Jhon_92', 'Jhon_93', 'Jhon_94', 'Jhon_95', 'Jhon_96', 'Jhon_97', 'Jhon_98', 'Jhon_99', 'Jhon_100']\n",
      "\n",
      "Qtd: 100 Generate Names\n"
     ]
    }
   ],
   "metadata": {}
  }
 ],
 "metadata": {
  "kernelspec": {
   "name": "python3",
   "display_name": "Python 3.8.5 64-bit ('base': conda)"
  },
  "language_info": {
   "codemirror_mode": {
    "name": "ipython",
    "version": 3
   },
   "file_extension": ".py",
   "mimetype": "text/x-python",
   "name": "python",
   "nbconvert_exporter": "python",
   "pygments_lexer": "ipython3",
   "version": "3.8.5"
  },
  "interpreter": {
   "hash": "b3ba2566441a7c06988d0923437866b63cedc61552a5af99d1f4fb67d367b25f"
  }
 },
 "nbformat": 4,
 "nbformat_minor": 4
}