{
 "cells": [
  {
   "cell_type": "code",
   "execution_count": 2,
   "metadata": {},
   "outputs": [],
   "source": [
    "import pandas as pd\n",
    "import numpy as np\n",
    "import statistics as st"
   ]
  },
  {
   "cell_type": "code",
   "execution_count": 3,
   "metadata": {
    "scrolled": true
   },
   "outputs": [],
   "source": [
    "df = pd.read_csv('proud-wheel.csv')"
   ]
  },
  {
   "cell_type": "code",
   "execution_count": 4,
   "metadata": {},
   "outputs": [
    {
     "data": {
      "text/plain": [
       "(40, 55)"
      ]
     },
     "execution_count": 4,
     "metadata": {},
     "output_type": "execute_result"
    }
   ],
   "source": [
    "df.shape"
   ]
  },
  {
   "cell_type": "code",
   "execution_count": 5,
   "metadata": {},
   "outputs": [
    {
     "data": {
      "text/plain": [
       "Index(['Probe Number', 'Probe Name', 'OS', 'Media', 'Test start time',\n",
       "       'Test duration', 'Connection start time', 'Connection duration',\n",
       "       'callSetupTime', 'score', 'sessionNumber', 'inSessionIdx', 'networking',\n",
       "       'firewall', 'browser', 'location', 'status', 'URL', 'reason',\n",
       "       'audioBitrate_In', 'audioBitrate_Out', 'audioBitrate_In_Max',\n",
       "       'audioBitrate_In_Min', 'audioBitrate_Out_Max', 'audioBitrate_Out_Min',\n",
       "       'audioPackets_In', 'audioPacketsLoss_In', 'audioPacketsLossPercent_In',\n",
       "       'audioPackets_Out', 'audioPacketsLoss_Out',\n",
       "       'audioPacketsLossPercent_Out', 'audioJitter_In', 'audioJitter_In_Max',\n",
       "       'audioJitter_Out', 'audioJitter_Out_Max', 'audioRoundtrip',\n",
       "       'audioRoundtrip_Max', 'videoBitrate_In', 'videoBitrate_Out',\n",
       "       'videoBitrate_In_Max', 'videoBitrate_In_Min', 'videoBitrate_Out_Max',\n",
       "       'videoBitrate_Out_Min', 'videoPackets_In', 'videoPacketsLoss_In',\n",
       "       'videoPacketsLossPercent_In', 'videoPackets_Out',\n",
       "       'videoPacketsLoss_Out', 'videoPacketsLossPercent_Out', 'videoJitter_In',\n",
       "       'videoJitter_In_Max', 'videoJitter_Out', 'videoJitter_Out_Max',\n",
       "       'videoRoundtrip', 'videoRoundtrip_Max'],\n",
       "      dtype='object')"
      ]
     },
     "execution_count": 5,
     "metadata": {},
     "output_type": "execute_result"
    }
   ],
   "source": [
    "df.columns"
   ]
  },
  {
   "cell_type": "code",
   "execution_count": 6,
   "metadata": {},
   "outputs": [],
   "source": [
    "df1 = df.query('score > 0.')"
   ]
  },
  {
   "cell_type": "code",
   "execution_count": 7,
   "metadata": {},
   "outputs": [
    {
     "name": "stdout",
     "output_type": "stream",
     "text": [
      "38\n",
      "(38, 55)\n"
     ]
    }
   ],
   "source": [
    "print(len(df1))\n",
    "print(df1.shape)"
   ]
  },
  {
   "cell_type": "code",
   "execution_count": 7,
   "metadata": {},
   "outputs": [
    {
     "data": {
      "text/html": [
       "<div>\n",
       "<style scoped>\n",
       "    .dataframe tbody tr th:only-of-type {\n",
       "        vertical-align: middle;\n",
       "    }\n",
       "\n",
       "    .dataframe tbody tr th {\n",
       "        vertical-align: top;\n",
       "    }\n",
       "\n",
       "    .dataframe thead th {\n",
       "        text-align: right;\n",
       "    }\n",
       "</style>\n",
       "<table border=\"1\" class=\"dataframe\">\n",
       "  <thead>\n",
       "    <tr style=\"text-align: right;\">\n",
       "      <th></th>\n",
       "      <th>Probe Number</th>\n",
       "      <th>Test duration</th>\n",
       "      <th>Connection duration</th>\n",
       "      <th>callSetupTime</th>\n",
       "      <th>score</th>\n",
       "      <th>sessionNumber</th>\n",
       "      <th>inSessionIdx</th>\n",
       "      <th>audioBitrate_In</th>\n",
       "      <th>audioBitrate_Out</th>\n",
       "      <th>audioBitrate_In_Max</th>\n",
       "      <th>...</th>\n",
       "      <th>videoPackets_In</th>\n",
       "      <th>videoPacketsLoss_In</th>\n",
       "      <th>videoPackets_Out</th>\n",
       "      <th>videoPacketsLoss_Out</th>\n",
       "      <th>videoJitter_In</th>\n",
       "      <th>videoJitter_In_Max</th>\n",
       "      <th>videoJitter_Out</th>\n",
       "      <th>videoJitter_Out_Max</th>\n",
       "      <th>videoRoundtrip</th>\n",
       "      <th>videoRoundtrip_Max</th>\n",
       "    </tr>\n",
       "  </thead>\n",
       "  <tbody>\n",
       "    <tr>\n",
       "      <th>count</th>\n",
       "      <td>38.000000</td>\n",
       "      <td>38.000000</td>\n",
       "      <td>38.000000</td>\n",
       "      <td>38.000000</td>\n",
       "      <td>38.000000</td>\n",
       "      <td>38.000000</td>\n",
       "      <td>38.000000</td>\n",
       "      <td>38.000000</td>\n",
       "      <td>38.000000</td>\n",
       "      <td>38.000000</td>\n",
       "      <td>...</td>\n",
       "      <td>38.000000</td>\n",
       "      <td>38.0</td>\n",
       "      <td>38.000000</td>\n",
       "      <td>38.000000</td>\n",
       "      <td>38.000000</td>\n",
       "      <td>38.000000</td>\n",
       "      <td>38.000000</td>\n",
       "      <td>38.000000</td>\n",
       "      <td>38.000000</td>\n",
       "      <td>38.000000</td>\n",
       "    </tr>\n",
       "    <tr>\n",
       "      <th>mean</th>\n",
       "      <td>20.026316</td>\n",
       "      <td>342.178684</td>\n",
       "      <td>155.458316</td>\n",
       "      <td>35.200526</td>\n",
       "      <td>5.639474</td>\n",
       "      <td>10.263158</td>\n",
       "      <td>1.500000</td>\n",
       "      <td>95.904211</td>\n",
       "      <td>38.982105</td>\n",
       "      <td>74.518158</td>\n",
       "      <td>...</td>\n",
       "      <td>40274.657895</td>\n",
       "      <td>0.0</td>\n",
       "      <td>18322.815789</td>\n",
       "      <td>0.960526</td>\n",
       "      <td>701.953421</td>\n",
       "      <td>3424.787895</td>\n",
       "      <td>8.145526</td>\n",
       "      <td>21.631053</td>\n",
       "      <td>28.753947</td>\n",
       "      <td>149.184211</td>\n",
       "    </tr>\n",
       "    <tr>\n",
       "      <th>std</th>\n",
       "      <td>11.808121</td>\n",
       "      <td>20.056326</td>\n",
       "      <td>32.094666</td>\n",
       "      <td>33.325514</td>\n",
       "      <td>0.224860</td>\n",
       "      <td>5.898622</td>\n",
       "      <td>0.506712</td>\n",
       "      <td>59.460591</td>\n",
       "      <td>14.572577</td>\n",
       "      <td>61.430908</td>\n",
       "      <td>...</td>\n",
       "      <td>26677.499011</td>\n",
       "      <td>0.0</td>\n",
       "      <td>7254.118092</td>\n",
       "      <td>3.054420</td>\n",
       "      <td>1122.462452</td>\n",
       "      <td>14089.473770</td>\n",
       "      <td>2.992381</td>\n",
       "      <td>10.777953</td>\n",
       "      <td>15.829548</td>\n",
       "      <td>138.220516</td>\n",
       "    </tr>\n",
       "    <tr>\n",
       "      <th>min</th>\n",
       "      <td>1.000000</td>\n",
       "      <td>279.569000</td>\n",
       "      <td>100.537000</td>\n",
       "      <td>2.020000</td>\n",
       "      <td>5.100000</td>\n",
       "      <td>1.000000</td>\n",
       "      <td>1.000000</td>\n",
       "      <td>27.410000</td>\n",
       "      <td>27.460000</td>\n",
       "      <td>33.370000</td>\n",
       "      <td>...</td>\n",
       "      <td>9771.000000</td>\n",
       "      <td>0.0</td>\n",
       "      <td>9631.000000</td>\n",
       "      <td>0.000000</td>\n",
       "      <td>18.380000</td>\n",
       "      <td>91.550000</td>\n",
       "      <td>4.680000</td>\n",
       "      <td>8.660000</td>\n",
       "      <td>15.880000</td>\n",
       "      <td>26.000000</td>\n",
       "    </tr>\n",
       "    <tr>\n",
       "      <th>25%</th>\n",
       "      <td>10.250000</td>\n",
       "      <td>332.565750</td>\n",
       "      <td>127.145250</td>\n",
       "      <td>3.820000</td>\n",
       "      <td>5.500000</td>\n",
       "      <td>5.250000</td>\n",
       "      <td>1.000000</td>\n",
       "      <td>55.265000</td>\n",
       "      <td>28.922500</td>\n",
       "      <td>34.285000</td>\n",
       "      <td>...</td>\n",
       "      <td>17340.000000</td>\n",
       "      <td>0.0</td>\n",
       "      <td>13355.250000</td>\n",
       "      <td>0.000000</td>\n",
       "      <td>227.162500</td>\n",
       "      <td>379.180000</td>\n",
       "      <td>6.002500</td>\n",
       "      <td>13.030000</td>\n",
       "      <td>17.842500</td>\n",
       "      <td>39.500000</td>\n",
       "    </tr>\n",
       "    <tr>\n",
       "      <th>50%</th>\n",
       "      <td>19.500000</td>\n",
       "      <td>342.731000</td>\n",
       "      <td>163.497000</td>\n",
       "      <td>19.855000</td>\n",
       "      <td>5.600000</td>\n",
       "      <td>10.000000</td>\n",
       "      <td>1.500000</td>\n",
       "      <td>72.160000</td>\n",
       "      <td>29.940000</td>\n",
       "      <td>39.610000</td>\n",
       "      <td>...</td>\n",
       "      <td>32865.000000</td>\n",
       "      <td>0.0</td>\n",
       "      <td>15683.500000</td>\n",
       "      <td>0.500000</td>\n",
       "      <td>323.610000</td>\n",
       "      <td>620.080000</td>\n",
       "      <td>6.990000</td>\n",
       "      <td>18.055000</td>\n",
       "      <td>20.960000</td>\n",
       "      <td>84.500000</td>\n",
       "    </tr>\n",
       "    <tr>\n",
       "      <th>75%</th>\n",
       "      <td>30.250000</td>\n",
       "      <td>360.981500</td>\n",
       "      <td>180.040000</td>\n",
       "      <td>69.065000</td>\n",
       "      <td>5.800000</td>\n",
       "      <td>15.500000</td>\n",
       "      <td>2.000000</td>\n",
       "      <td>123.450000</td>\n",
       "      <td>58.160000</td>\n",
       "      <td>110.272500</td>\n",
       "      <td>...</td>\n",
       "      <td>61486.500000</td>\n",
       "      <td>0.0</td>\n",
       "      <td>23118.750000</td>\n",
       "      <td>1.000000</td>\n",
       "      <td>520.127500</td>\n",
       "      <td>1089.337500</td>\n",
       "      <td>9.560000</td>\n",
       "      <td>29.665000</td>\n",
       "      <td>34.295000</td>\n",
       "      <td>248.250000</td>\n",
       "    </tr>\n",
       "    <tr>\n",
       "      <th>max</th>\n",
       "      <td>40.000000</td>\n",
       "      <td>370.129000</td>\n",
       "      <td>211.865000</td>\n",
       "      <td>83.250000</td>\n",
       "      <td>6.000000</td>\n",
       "      <td>20.000000</td>\n",
       "      <td>2.000000</td>\n",
       "      <td>215.200000</td>\n",
       "      <td>62.940000</td>\n",
       "      <td>312.810000</td>\n",
       "      <td>...</td>\n",
       "      <td>105497.000000</td>\n",
       "      <td>0.0</td>\n",
       "      <td>36896.000000</td>\n",
       "      <td>19.000000</td>\n",
       "      <td>6430.570000</td>\n",
       "      <td>87232.310000</td>\n",
       "      <td>15.250000</td>\n",
       "      <td>45.840000</td>\n",
       "      <td>71.680000</td>\n",
       "      <td>466.000000</td>\n",
       "    </tr>\n",
       "  </tbody>\n",
       "</table>\n",
       "<p>8 rows × 39 columns</p>\n",
       "</div>"
      ],
      "text/plain": [
       "       Probe Number  Test duration  Connection duration  callSetupTime  \\\n",
       "count     38.000000      38.000000            38.000000      38.000000   \n",
       "mean      20.026316     342.178684           155.458316      35.200526   \n",
       "std       11.808121      20.056326            32.094666      33.325514   \n",
       "min        1.000000     279.569000           100.537000       2.020000   \n",
       "25%       10.250000     332.565750           127.145250       3.820000   \n",
       "50%       19.500000     342.731000           163.497000      19.855000   \n",
       "75%       30.250000     360.981500           180.040000      69.065000   \n",
       "max       40.000000     370.129000           211.865000      83.250000   \n",
       "\n",
       "           score  sessionNumber  inSessionIdx  audioBitrate_In  \\\n",
       "count  38.000000      38.000000     38.000000        38.000000   \n",
       "mean    5.639474      10.263158      1.500000        95.904211   \n",
       "std     0.224860       5.898622      0.506712        59.460591   \n",
       "min     5.100000       1.000000      1.000000        27.410000   \n",
       "25%     5.500000       5.250000      1.000000        55.265000   \n",
       "50%     5.600000      10.000000      1.500000        72.160000   \n",
       "75%     5.800000      15.500000      2.000000       123.450000   \n",
       "max     6.000000      20.000000      2.000000       215.200000   \n",
       "\n",
       "       audioBitrate_Out  audioBitrate_In_Max  ...  videoPackets_In  \\\n",
       "count         38.000000            38.000000  ...        38.000000   \n",
       "mean          38.982105            74.518158  ...     40274.657895   \n",
       "std           14.572577            61.430908  ...     26677.499011   \n",
       "min           27.460000            33.370000  ...      9771.000000   \n",
       "25%           28.922500            34.285000  ...     17340.000000   \n",
       "50%           29.940000            39.610000  ...     32865.000000   \n",
       "75%           58.160000           110.272500  ...     61486.500000   \n",
       "max           62.940000           312.810000  ...    105497.000000   \n",
       "\n",
       "       videoPacketsLoss_In  videoPackets_Out  videoPacketsLoss_Out  \\\n",
       "count                 38.0         38.000000             38.000000   \n",
       "mean                   0.0      18322.815789              0.960526   \n",
       "std                    0.0       7254.118092              3.054420   \n",
       "min                    0.0       9631.000000              0.000000   \n",
       "25%                    0.0      13355.250000              0.000000   \n",
       "50%                    0.0      15683.500000              0.500000   \n",
       "75%                    0.0      23118.750000              1.000000   \n",
       "max                    0.0      36896.000000             19.000000   \n",
       "\n",
       "       videoJitter_In  videoJitter_In_Max  videoJitter_Out  \\\n",
       "count       38.000000           38.000000        38.000000   \n",
       "mean       701.953421         3424.787895         8.145526   \n",
       "std       1122.462452        14089.473770         2.992381   \n",
       "min         18.380000           91.550000         4.680000   \n",
       "25%        227.162500          379.180000         6.002500   \n",
       "50%        323.610000          620.080000         6.990000   \n",
       "75%        520.127500         1089.337500         9.560000   \n",
       "max       6430.570000        87232.310000        15.250000   \n",
       "\n",
       "       videoJitter_Out_Max  videoRoundtrip  videoRoundtrip_Max  \n",
       "count            38.000000       38.000000           38.000000  \n",
       "mean             21.631053       28.753947          149.184211  \n",
       "std              10.777953       15.829548          138.220516  \n",
       "min               8.660000       15.880000           26.000000  \n",
       "25%              13.030000       17.842500           39.500000  \n",
       "50%              18.055000       20.960000           84.500000  \n",
       "75%              29.665000       34.295000          248.250000  \n",
       "max              45.840000       71.680000          466.000000  \n",
       "\n",
       "[8 rows x 39 columns]"
      ]
     },
     "execution_count": 7,
     "metadata": {},
     "output_type": "execute_result"
    }
   ],
   "source": [
    "df1.describe()"
   ]
  },
  {
   "cell_type": "code",
   "execution_count": 8,
   "metadata": {},
   "outputs": [
    {
     "data": {
      "text/plain": [
       "5.639473684210526"
      ]
     },
     "execution_count": 8,
     "metadata": {},
     "output_type": "execute_result"
    }
   ],
   "source": [
    "#Score\n",
    "st.mean(df1['score'])"
   ]
  },
  {
   "cell_type": "markdown",
   "metadata": {},
   "source": [
    "<h3>Dados Vídeo</h3>"
   ]
  },
  {
   "cell_type": "code",
   "execution_count": 9,
   "metadata": {},
   "outputs": [
    {
     "name": "stdout",
     "output_type": "stream",
     "text": [
      "videoBitrate_In\n",
      "5677.55\n",
      "760.76\n",
      "2569.494210526316\n"
     ]
    }
   ],
   "source": [
    "# videoBitrate_In\n",
    "print('videoBitrate_In')\n",
    "print(max(df1['videoBitrate_In']))\n",
    "print(min(df1['videoBitrate_In']))\n",
    "print(st.mean(df1['videoBitrate_In']))"
   ]
  },
  {
   "cell_type": "code",
   "execution_count": 10,
   "metadata": {},
   "outputs": [
    {
     "name": "stdout",
     "output_type": "stream",
     "text": [
      "videoBitrate_Out\n",
      "1690.28\n",
      "749.98\n",
      "1027.7610526315789\n"
     ]
    }
   ],
   "source": [
    "# videoBitrate_Out\n",
    "print('videoBitrate_Out')\n",
    "print(max(df1['videoBitrate_Out']))\n",
    "print(min(df1['videoBitrate_Out']))\n",
    "print(st.mean(df1['videoBitrate_Out']))"
   ]
  },
  {
   "cell_type": "code",
   "execution_count": 11,
   "metadata": {},
   "outputs": [
    {
     "name": "stdout",
     "output_type": "stream",
     "text": [
      "videoBitrate_In_Max\n",
      "6994.49\n",
      "1052.14\n",
      "1927.8034210526316\n"
     ]
    }
   ],
   "source": [
    "# videoBitrate_In_Max\n",
    "print('videoBitrate_In_Max')\n",
    "print(max(df1['videoBitrate_In_Max']))\n",
    "print(min(df1['videoBitrate_In_Max']))\n",
    "print(st.mean(df1['videoBitrate_In_Max']))"
   ]
  },
  {
   "cell_type": "code",
   "execution_count": 12,
   "metadata": {},
   "outputs": [
    {
     "name": "stdout",
     "output_type": "stream",
     "text": [
      "0\n"
     ]
    }
   ],
   "source": [
    "#Perca de pacotes vódeo entrada\n",
    "perca_pacotes_video_entrada = df1.query('videoPacketsLoss_In > 0.')\n",
    "print(len(perca_pacotes_video_entrada))"
   ]
  },
  {
   "cell_type": "code",
   "execution_count": 13,
   "metadata": {},
   "outputs": [
    {
     "name": "stdout",
     "output_type": "stream",
     "text": [
      "20\n"
     ]
    }
   ],
   "source": [
    "#Perca de pacotes vódeo saída\n",
    "perca_pacotes_video_saida = df1.query('videoPacketsLoss_Out > 0.')\n",
    "print(len(perca_pacotes_video_saida))"
   ]
  },
  {
   "cell_type": "markdown",
   "metadata": {},
   "source": [
    "<h3>Dados Audio</h3>"
   ]
  },
  {
   "cell_type": "code",
   "execution_count": 14,
   "metadata": {},
   "outputs": [
    {
     "name": "stdout",
     "output_type": "stream",
     "text": [
      "audioBitrate_In\n",
      "215.2\n",
      "27.41\n",
      "95.9042105263158\n"
     ]
    }
   ],
   "source": [
    "# audioBitrate_In\n",
    "print('audioBitrate_In')\n",
    "print(max(df1['audioBitrate_In']))\n",
    "print(min(df1['audioBitrate_In']))\n",
    "print(st.mean(df1['audioBitrate_In']))"
   ]
  },
  {
   "cell_type": "code",
   "execution_count": 15,
   "metadata": {},
   "outputs": [
    {
     "name": "stdout",
     "output_type": "stream",
     "text": [
      "audioBitrate_Out\n",
      "62.94\n",
      "27.46\n",
      "38.9821052631579\n"
     ]
    }
   ],
   "source": [
    "# audioBitrate_Out\n",
    "print('audioBitrate_Out')\n",
    "print(max(df1['audioBitrate_Out']))\n",
    "print(min(df1['audioBitrate_Out']))\n",
    "print(st.mean(df1['audioBitrate_Out']))"
   ]
  },
  {
   "cell_type": "code",
   "execution_count": 16,
   "metadata": {},
   "outputs": [
    {
     "name": "stdout",
     "output_type": "stream",
     "text": [
      "audioBitrate_In_Max\n",
      "312.81\n",
      "33.37\n",
      "74.51815789473685\n"
     ]
    }
   ],
   "source": [
    "#audioBitrate_In_Max\n",
    "print('audioBitrate_In_Max')\n",
    "print(max(df1['audioBitrate_In_Max']))\n",
    "print(min(df1['audioBitrate_In_Max']))\n",
    "print(st.mean(df1['audioBitrate_In_Max']))"
   ]
  },
  {
   "cell_type": "code",
   "execution_count": 17,
   "metadata": {},
   "outputs": [
    {
     "name": "stdout",
     "output_type": "stream",
     "text": [
      "audioBitrate_In_Min\n",
      "21.78\n",
      "0.0\n",
      "11.011052631578947\n"
     ]
    }
   ],
   "source": [
    "#audioBitrate_In_Min\n",
    "print('audioBitrate_In_Min')\n",
    "print(max(df1['audioBitrate_In_Min']))\n",
    "print(min(df1['audioBitrate_In_Min']))\n",
    "print(st.mean(df1['audioBitrate_In_Min']))"
   ]
  },
  {
   "cell_type": "code",
   "execution_count": 18,
   "metadata": {},
   "outputs": [
    {
     "name": "stdout",
     "output_type": "stream",
     "text": [
      "audioBitrate_Out_Max\n",
      "293.73\n",
      "32.95\n",
      "70.38447368421053\n"
     ]
    }
   ],
   "source": [
    "#audioBitrate_Out_Max\n",
    "print('audioBitrate_Out_Max')\n",
    "print(max(df1['audioBitrate_Out_Max']))\n",
    "print(min(df1['audioBitrate_Out_Max']))\n",
    "print(st.mean(df1['audioBitrate_Out_Max']))"
   ]
  },
  {
   "cell_type": "code",
   "execution_count": 19,
   "metadata": {},
   "outputs": [
    {
     "name": "stdout",
     "output_type": "stream",
     "text": [
      "audioBitrate_Out_Min\n",
      "22.98\n",
      "3.19\n",
      "13.806842105263158\n"
     ]
    }
   ],
   "source": [
    "#audioBitrate_Out_Min\n",
    "print('audioBitrate_Out_Min')\n",
    "print(max(df1['audioBitrate_Out_Min']))\n",
    "print(min(df1['audioBitrate_Out_Min']))\n",
    "print(st.mean(df1['audioBitrate_Out_Min']))"
   ]
  },
  {
   "cell_type": "code",
   "execution_count": 20,
   "metadata": {},
   "outputs": [
    {
     "name": "stdout",
     "output_type": "stream",
     "text": [
      "audioJitter_In\n",
      "21.53\n",
      "8.71\n",
      "14.452105263157895\n"
     ]
    }
   ],
   "source": [
    "#audioJitter_In\n",
    "print('audioJitter_In')\n",
    "print(max(df1['audioJitter_In']))\n",
    "print(min(df1['audioJitter_In']))\n",
    "print(st.mean(df1['audioJitter_In']))"
   ]
  },
  {
   "cell_type": "code",
   "execution_count": 21,
   "metadata": {},
   "outputs": [
    {
     "name": "stdout",
     "output_type": "stream",
     "text": [
      "audioJitter_In_Max\n",
      "72\n",
      "17\n",
      "35.78947368421053\n"
     ]
    }
   ],
   "source": [
    "#audioJitter_In_Max\n",
    "print('audioJitter_In_Max')\n",
    "print(max(df1['audioJitter_In_Max']))\n",
    "print(min(df1['audioJitter_In_Max']))\n",
    "print(st.mean(df1['audioJitter_In_Max']))"
   ]
  },
  {
   "cell_type": "code",
   "execution_count": 22,
   "metadata": {},
   "outputs": [
    {
     "name": "stdout",
     "output_type": "stream",
     "text": [
      "audioJitter_Out\n",
      "19.69\n",
      "5.19\n",
      "9.83\n"
     ]
    }
   ],
   "source": [
    "#audioJitter_Out\n",
    "print('audioJitter_Out')\n",
    "print(max(df1['audioJitter_Out']))\n",
    "print(min(df1['audioJitter_Out']))\n",
    "print(st.mean(df1['audioJitter_Out']))"
   ]
  },
  {
   "cell_type": "code",
   "execution_count": 23,
   "metadata": {},
   "outputs": [
    {
     "name": "stdout",
     "output_type": "stream",
     "text": [
      "audioJitter_Out_Max\n",
      "48.63\n",
      "7.17\n",
      "18.54\n"
     ]
    }
   ],
   "source": [
    "#audioJitter_Out_Max\n",
    "print('audioJitter_Out_Max')\n",
    "print(max(df1['audioJitter_Out_Max']))\n",
    "print(min(df1['audioJitter_Out_Max']))\n",
    "print(st.mean(df1['audioJitter_Out_Max']))"
   ]
  },
  {
   "cell_type": "code",
   "execution_count": 24,
   "metadata": {},
   "outputs": [
    {
     "name": "stdout",
     "output_type": "stream",
     "text": [
      "audioRoundtrip\n",
      "90.0\n",
      "15.97\n",
      "31.504210526315788\n"
     ]
    }
   ],
   "source": [
    "#audioRoundtrip\n",
    "print('audioRoundtrip')\n",
    "print(max(df1['audioRoundtrip']))\n",
    "print(min(df1['audioRoundtrip']))\n",
    "print(st.mean(df1['audioRoundtrip']))"
   ]
  },
  {
   "cell_type": "code",
   "execution_count": 25,
   "metadata": {},
   "outputs": [
    {
     "name": "stdout",
     "output_type": "stream",
     "text": [
      "audioRoundtrip_Max\n",
      "566\n",
      "22\n",
      "109.76315789473684\n"
     ]
    }
   ],
   "source": [
    "#audioRoundtrip_Max\n",
    "print('audioRoundtrip_Max')\n",
    "print(max(df1['audioRoundtrip_Max']))\n",
    "print(min(df1['audioRoundtrip_Max']))\n",
    "print(st.mean(df1['audioRoundtrip_Max']))"
   ]
  },
  {
   "cell_type": "code",
   "execution_count": 26,
   "metadata": {},
   "outputs": [
    {
     "name": "stdout",
     "output_type": "stream",
     "text": [
      "1\n"
     ]
    }
   ],
   "source": [
    "#Perca de pacotes audio entrada QTD\n",
    "perca_pacotes_audio_entrada = df1.query('audioPacketsLoss_In > 0.')\n",
    "print(len(perca_pacotes_audio_entrada))\n"
   ]
  },
  {
   "cell_type": "code",
   "execution_count": 28,
   "metadata": {},
   "outputs": [
    {
     "name": "stdout",
     "output_type": "stream",
     "text": [
      "38\n"
     ]
    }
   ],
   "source": [
    "#Perca de pacotes audio saída QTD\n",
    "perca_pacotes_audio_saida = df1.query('audioPackets_Out > 0.')\n",
    "print(len(perca_pacotes_audio_saida))"
   ]
  },
  {
   "cell_type": "code",
   "execution_count": 29,
   "metadata": {},
   "outputs": [],
   "source": [
    "erro = df['reason']\n",
    "info = []\n",
    "for i in erro:\n",
    "    info.append(i)"
   ]
  },
  {
   "cell_type": "code",
   "execution_count": 30,
   "metadata": {},
   "outputs": [
    {
     "data": {
      "text/plain": [
       "[\"https:/www.staging.liviasaude.com.br/vendors~main-bdd68c069090be26c58d.js 1:938443 Uncaught TypeError: Cannot read property 'addEventListener' of null\",\n",
       " 'https:/www.staging.liviasaude.com.br/assetslv2/img/marca-delboni.svg - Failed to load resource: the server responded with a status of 502 (Bad Gateway)',\n",
       " \"https:/www.staging.liviasaude.com.br/vendors~main-bdd68c069090be26c58d.js 1:938443 Uncaught TypeError: Cannot read property 'addEventListener' of null\",\n",
       " 'https:/www.staging.liviasaude.com.br/assetslv2/img/logo-livia-azul.svg - Failed to load resource: the server responded with a status of 502 (Bad Gateway)',\n",
       " \"https:/www.staging.liviasaude.com.br/vendors~main-bdd68c069090be26c58d.js 1:938443 Uncaught TypeError: Cannot read property 'addEventListener' of null\",\n",
       " 'https:/www.staging.liviasaude.com.br/assetslv2/img/seta-link.svg - Failed to load resource: the server responded with a status of 502 (Bad Gateway)',\n",
       " \"https:/www.staging.liviasaude.com.br/vendors~main-bdd68c069090be26c58d.js 1:938443 Uncaught TypeError: Cannot read property 'addEventListener' of null\",\n",
       " 'https:/www.staging.liviasaude.com.br/vendors~main-bdd68c069090be26c58d.js 1:944575 Se',\n",
       " \"https:/www.staging.liviasaude.com.br/vendors~main-bdd68c069090be26c58d.js 1:938443 Uncaught TypeError: Cannot read property 'addEventListener' of null\",\n",
       " 'https:/www.staging.liviasaude.com.br/vendors~main-bdd68c069090be26c58d.js 1:944575 Se',\n",
       " \"https:/www.staging.liviasaude.com.br/vendors~main-bdd68c069090be26c58d.js 1:938443 Uncaught TypeError: Cannot read property 'addEventListener' of null\",\n",
       " 'https:/www.staging.liviasaude.com.br/assetslv2/img/marca-delboni.svg - Failed to load resource: the server responded with a status of 502 (Bad Gateway)',\n",
       " \"https:/www.staging.liviasaude.com.br/vendors~main-bdd68c069090be26c58d.js 1:938443 Uncaught TypeError: Cannot read property 'addEventListener' of null\",\n",
       " 'https:/www.staging.liviasaude.com.br/vendors~main-bdd68c069090be26c58d.js 1:944575 Se',\n",
       " \"https:/www.staging.liviasaude.com.br/vendors~main-bdd68c069090be26c58d.js 1:938443 Uncaught TypeError: Cannot read property 'addEventListener' of null\",\n",
       " 'https:/www.staging.liviasaude.com.br/assetslv2/img/img-consultas-mobile-maior.jpg - Failed to load resource: the server responded with a status of 502 (Bad Gateway)',\n",
       " \"https:/www.staging.liviasaude.com.br/vendors~main-bdd68c069090be26c58d.js 1:938443 Uncaught TypeError: Cannot read property 'addEventListener' of null\",\n",
       " 'https:/www.staging.liviasaude.com.br/vendors~main-bdd68c069090be26c58d.js 1:944575 Se',\n",
       " \"https:/www.staging.liviasaude.com.br/vendors~main-bdd68c069090be26c58d.js 1:938443 Uncaught TypeError: Cannot read property 'addEventListener' of null\",\n",
       " 'https:/www.staging.liviasaude.com.br/vendors~main-bdd68c069090be26c58d.js 1:944575 Se',\n",
       " \"https:/www.staging.liviasaude.com.br/vendors~main-bdd68c069090be26c58d.js 1:938443 Uncaught TypeError: Cannot read property 'addEventListener' of null\",\n",
       " 'https:/www.staging.liviasaude.com.br/vendors~main-bdd68c069090be26c58d.js 1:944575 Se',\n",
       " \"https:/www.staging.liviasaude.com.br/vendors~main-bdd68c069090be26c58d.js 1:938443 Uncaught TypeError: Cannot read property 'addEventListener' of null\",\n",
       " 'https:/www.staging.liviasaude.com.br/assetslv2/img/logo-livia-azul.svg - Failed to load resource: the server responded with a status of 502 (Bad Gateway)',\n",
       " 'Error while running .clickElement) protocol action: stale element reference: element is not attached to the page document',\n",
       " 'https:/www.staging.liviasaude.com.br/vendors~main-bdd68c069090be26c58d.js 1:944575 Se',\n",
       " \"https:/www.staging.liviasaude.com.br/vendors~main-bdd68c069090be26c58d.js 1:938443 Uncaught TypeError: Cannot read property 'addEventListener' of null\",\n",
       " 'No errors',\n",
       " ' Timed out while waiting for element <a.video-attendance-card__link> to be present for 500000 milliseconds. - expected \"visible\" but got: \"not found\" (500097ms), waitForElementVisible (\\'a.video-attendance-card__link\\', 500000) (Line:53)',\n",
       " ' Timed out while waiting for element <div.card-in-call__body  div.card-in-call__content  div.card-in-call__timer> to be present for 500000 milliseconds. - expected \"visible\" but got: \"not found\" (500255ms), waitForElementVisible (\\'div.card-in-call__body  div.card-in-call__content  div.card-in-call__timer\\', 500000) (Line:214)',\n",
       " 'Error while running .clickElement) protocol action: stale element reference: element is not attached to the page document',\n",
       " 'https:/www.staging.liviasaude.com.br/assetslv2/img/img-exames-mobile.jpg - Failed to load resource: the server responded with a status of 502 (Bad Gateway)',\n",
       " \"https:/www.staging.liviasaude.com.br/vendors~main-bdd68c069090be26c58d.js 1:938443 Uncaught TypeError: Cannot read property 'addEventListener' of null\",\n",
       " 'https:/www.staging.liviasaude.com.br/assetslv2/js/jquery.min.js - Failed to load resource: the server responded with a status of 502 (Bad Gateway)',\n",
       " \"https:/www.staging.liviasaude.com.br/vendors~main-bdd68c069090be26c58d.js 1:938443 Uncaught TypeError: Cannot read property 'addEventListener' of null\",\n",
       " 'No errors',\n",
       " \"https:/www.staging.liviasaude.com.br/vendors~main-bdd68c069090be26c58d.js 1:938443 Uncaught TypeError: Cannot read property 'addEventListener' of null\",\n",
       " 'https:/www.staging.liviasaude.com.br/vendors~main-bdd68c069090be26c58d.js 1:944575 Se',\n",
       " \"https:/www.staging.liviasaude.com.br/vendors~main-bdd68c069090be26c58d.js 1:938443 Uncaught TypeError: Cannot read property 'addEventListener' of null\",\n",
       " 'https:/www.staging.liviasaude.com.br/assetslv2/img/img-exames-desktop.jpg - Failed to load resource: the server responded with a status of 502 (Bad Gateway)']"
      ]
     },
     "execution_count": 30,
     "metadata": {},
     "output_type": "execute_result"
    }
   ],
   "source": [
    "info"
   ]
  },
  {
   "cell_type": "code",
   "execution_count": 9,
   "metadata": {},
   "outputs": [
    {
     "data": {
      "text/plain": [
       "100"
      ]
     },
     "execution_count": 9,
     "metadata": {},
     "output_type": "execute_result"
    }
   ],
   "source": [
    "len(info)"
   ]
  },
  {
   "cell_type": "code",
   "execution_count": 11,
   "metadata": {},
   "outputs": [],
   "source": [
    "from pandas_profiling import ProfileReport\n",
    "profile = ProfileReport(df, minimal=True)\n",
    "profile.to_file(\"Analise_dados_04_node_100_50.html\")"
   ]
  },
  {
   "cell_type": "code",
   "execution_count": null,
   "metadata": {},
   "outputs": [],
   "source": []
  }
 ],
 "metadata": {
  "kernelspec": {
   "display_name": "Python 3",
   "language": "python",
   "name": "python3"
  },
  "language_info": {
   "codemirror_mode": {
    "name": "ipython",
    "version": 3
   },
   "file_extension": ".py",
   "mimetype": "text/x-python",
   "name": "python",
   "nbconvert_exporter": "python",
   "pygments_lexer": "ipython3",
   "version": "3.8.5"
  }
 },
 "nbformat": 4,
 "nbformat_minor": 4
}
