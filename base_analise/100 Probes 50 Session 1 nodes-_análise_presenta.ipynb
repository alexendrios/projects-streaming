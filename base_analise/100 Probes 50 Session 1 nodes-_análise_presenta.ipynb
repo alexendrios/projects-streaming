{
 "cells": [
  {
   "cell_type": "code",
   "execution_count": 2,
   "metadata": {},
   "outputs": [],
   "source": [
    "import pandas as pd\n",
    "import numpy as np\n",
    "import statistics as st"
   ]
  },
  {
   "cell_type": "code",
   "execution_count": 3,
   "metadata": {
    "scrolled": true
   },
   "outputs": [],
   "source": [
    "df = pd.read_csv('quixotic-meat.csv')"
   ]
  },
  {
   "cell_type": "code",
   "execution_count": 4,
   "metadata": {},
   "outputs": [
    {
     "data": {
      "text/plain": [
       "(100, 55)"
      ]
     },
     "execution_count": 4,
     "metadata": {},
     "output_type": "execute_result"
    }
   ],
   "source": [
    "df.shape"
   ]
  },
  {
   "cell_type": "code",
   "execution_count": 5,
   "metadata": {},
   "outputs": [
    {
     "data": {
      "text/plain": [
       "Index(['Probe Number', 'Probe Name', 'OS', 'Media', 'Test start time',\n",
       "       'Test duration', 'Connection start time', 'Connection duration',\n",
       "       'callSetupTime', 'score', 'sessionNumber', 'inSessionIdx', 'networking',\n",
       "       'firewall', 'browser', 'location', 'status', 'URL', 'reason',\n",
       "       'audioBitrate_In', 'audioBitrate_Out', 'audioBitrate_In_Max',\n",
       "       'audioBitrate_In_Min', 'audioBitrate_Out_Max', 'audioBitrate_Out_Min',\n",
       "       'audioPackets_In', 'audioPacketsLoss_In', 'audioPacketsLossPercent_In',\n",
       "       'audioPackets_Out', 'audioPacketsLoss_Out',\n",
       "       'audioPacketsLossPercent_Out', 'audioJitter_In', 'audioJitter_In_Max',\n",
       "       'audioJitter_Out', 'audioJitter_Out_Max', 'audioRoundtrip',\n",
       "       'audioRoundtrip_Max', 'videoBitrate_In', 'videoBitrate_Out',\n",
       "       'videoBitrate_In_Max', 'videoBitrate_In_Min', 'videoBitrate_Out_Max',\n",
       "       'videoBitrate_Out_Min', 'videoPackets_In', 'videoPacketsLoss_In',\n",
       "       'videoPacketsLossPercent_In', 'videoPackets_Out',\n",
       "       'videoPacketsLoss_Out', 'videoPacketsLossPercent_Out', 'videoJitter_In',\n",
       "       'videoJitter_In_Max', 'videoJitter_Out', 'videoJitter_Out_Max',\n",
       "       'videoRoundtrip', 'videoRoundtrip_Max'],\n",
       "      dtype='object')"
      ]
     },
     "execution_count": 5,
     "metadata": {},
     "output_type": "execute_result"
    }
   ],
   "source": [
    "df.columns"
   ]
  },
  {
   "cell_type": "code",
   "execution_count": 6,
   "metadata": {},
   "outputs": [],
   "source": [
    "df1 = df.query('score > 0.')"
   ]
  },
  {
   "cell_type": "code",
   "execution_count": 7,
   "metadata": {},
   "outputs": [
    {
     "name": "stdout",
     "output_type": "stream",
     "text": [
      "88\n",
      "(88, 55)\n"
     ]
    }
   ],
   "source": [
    "print(len(df1))\n",
    "print(df1.shape)"
   ]
  },
  {
   "cell_type": "code",
   "execution_count": 8,
   "metadata": {},
   "outputs": [
    {
     "data": {
      "text/html": [
       "<div>\n",
       "<style scoped>\n",
       "    .dataframe tbody tr th:only-of-type {\n",
       "        vertical-align: middle;\n",
       "    }\n",
       "\n",
       "    .dataframe tbody tr th {\n",
       "        vertical-align: top;\n",
       "    }\n",
       "\n",
       "    .dataframe thead th {\n",
       "        text-align: right;\n",
       "    }\n",
       "</style>\n",
       "<table border=\"1\" class=\"dataframe\">\n",
       "  <thead>\n",
       "    <tr style=\"text-align: right;\">\n",
       "      <th></th>\n",
       "      <th>Probe Number</th>\n",
       "      <th>Test duration</th>\n",
       "      <th>Connection duration</th>\n",
       "      <th>callSetupTime</th>\n",
       "      <th>score</th>\n",
       "      <th>sessionNumber</th>\n",
       "      <th>inSessionIdx</th>\n",
       "      <th>audioBitrate_In</th>\n",
       "      <th>audioBitrate_Out</th>\n",
       "      <th>audioBitrate_In_Max</th>\n",
       "      <th>...</th>\n",
       "      <th>videoPackets_In</th>\n",
       "      <th>videoPacketsLoss_In</th>\n",
       "      <th>videoPackets_Out</th>\n",
       "      <th>videoPacketsLoss_Out</th>\n",
       "      <th>videoJitter_In</th>\n",
       "      <th>videoJitter_In_Max</th>\n",
       "      <th>videoJitter_Out</th>\n",
       "      <th>videoJitter_Out_Max</th>\n",
       "      <th>videoRoundtrip</th>\n",
       "      <th>videoRoundtrip_Max</th>\n",
       "    </tr>\n",
       "  </thead>\n",
       "  <tbody>\n",
       "    <tr>\n",
       "      <th>count</th>\n",
       "      <td>88.000000</td>\n",
       "      <td>88.000000</td>\n",
       "      <td>88.000000</td>\n",
       "      <td>88.000000</td>\n",
       "      <td>88.000000</td>\n",
       "      <td>88.000000</td>\n",
       "      <td>88.000000</td>\n",
       "      <td>88.000000</td>\n",
       "      <td>88.000000</td>\n",
       "      <td>88.000000</td>\n",
       "      <td>...</td>\n",
       "      <td>88.000000</td>\n",
       "      <td>88.0</td>\n",
       "      <td>88.000000</td>\n",
       "      <td>88.000000</td>\n",
       "      <td>88.000000</td>\n",
       "      <td>88.000000</td>\n",
       "      <td>88.00000</td>\n",
       "      <td>88.000000</td>\n",
       "      <td>88.000000</td>\n",
       "      <td>88.000000</td>\n",
       "    </tr>\n",
       "    <tr>\n",
       "      <th>mean</th>\n",
       "      <td>48.454545</td>\n",
       "      <td>405.797375</td>\n",
       "      <td>163.428273</td>\n",
       "      <td>55.488636</td>\n",
       "      <td>5.422727</td>\n",
       "      <td>24.477273</td>\n",
       "      <td>1.500000</td>\n",
       "      <td>108.206932</td>\n",
       "      <td>39.948409</td>\n",
       "      <td>116.156591</td>\n",
       "      <td>...</td>\n",
       "      <td>50564.613636</td>\n",
       "      <td>0.0</td>\n",
       "      <td>21507.522727</td>\n",
       "      <td>0.181818</td>\n",
       "      <td>903.003182</td>\n",
       "      <td>1921.354886</td>\n",
       "      <td>8.20625</td>\n",
       "      <td>29.415455</td>\n",
       "      <td>24.637955</td>\n",
       "      <td>131.193182</td>\n",
       "    </tr>\n",
       "    <tr>\n",
       "      <th>std</th>\n",
       "      <td>29.104216</td>\n",
       "      <td>48.501454</td>\n",
       "      <td>56.307307</td>\n",
       "      <td>54.201644</td>\n",
       "      <td>0.238639</td>\n",
       "      <td>14.549936</td>\n",
       "      <td>0.502865</td>\n",
       "      <td>66.860037</td>\n",
       "      <td>14.934719</td>\n",
       "      <td>86.398323</td>\n",
       "      <td>...</td>\n",
       "      <td>39060.453175</td>\n",
       "      <td>0.0</td>\n",
       "      <td>13457.706395</td>\n",
       "      <td>0.703774</td>\n",
       "      <td>578.634386</td>\n",
       "      <td>2279.854525</td>\n",
       "      <td>2.61144</td>\n",
       "      <td>15.544187</td>\n",
       "      <td>7.699508</td>\n",
       "      <td>80.313160</td>\n",
       "    </tr>\n",
       "    <tr>\n",
       "      <th>min</th>\n",
       "      <td>1.000000</td>\n",
       "      <td>377.233000</td>\n",
       "      <td>63.570000</td>\n",
       "      <td>2.150000</td>\n",
       "      <td>4.600000</td>\n",
       "      <td>1.000000</td>\n",
       "      <td>1.000000</td>\n",
       "      <td>22.890000</td>\n",
       "      <td>0.000000</td>\n",
       "      <td>32.950000</td>\n",
       "      <td>...</td>\n",
       "      <td>5978.000000</td>\n",
       "      <td>0.0</td>\n",
       "      <td>0.000000</td>\n",
       "      <td>0.000000</td>\n",
       "      <td>69.300000</td>\n",
       "      <td>75.700000</td>\n",
       "      <td>0.00000</td>\n",
       "      <td>0.000000</td>\n",
       "      <td>0.000000</td>\n",
       "      <td>0.000000</td>\n",
       "    </tr>\n",
       "    <tr>\n",
       "      <th>25%</th>\n",
       "      <td>22.750000</td>\n",
       "      <td>392.392500</td>\n",
       "      <td>114.934000</td>\n",
       "      <td>4.000000</td>\n",
       "      <td>5.300000</td>\n",
       "      <td>11.750000</td>\n",
       "      <td>1.000000</td>\n",
       "      <td>54.522500</td>\n",
       "      <td>28.762500</td>\n",
       "      <td>55.042500</td>\n",
       "      <td>...</td>\n",
       "      <td>17805.750000</td>\n",
       "      <td>0.0</td>\n",
       "      <td>10607.000000</td>\n",
       "      <td>0.000000</td>\n",
       "      <td>468.060000</td>\n",
       "      <td>1062.547500</td>\n",
       "      <td>6.70500</td>\n",
       "      <td>19.090000</td>\n",
       "      <td>20.180000</td>\n",
       "      <td>63.750000</td>\n",
       "    </tr>\n",
       "    <tr>\n",
       "      <th>50%</th>\n",
       "      <td>48.500000</td>\n",
       "      <td>400.164500</td>\n",
       "      <td>163.867000</td>\n",
       "      <td>31.500000</td>\n",
       "      <td>5.500000</td>\n",
       "      <td>24.500000</td>\n",
       "      <td>1.500000</td>\n",
       "      <td>59.130000</td>\n",
       "      <td>29.980000</td>\n",
       "      <td>86.680000</td>\n",
       "      <td>...</td>\n",
       "      <td>29105.500000</td>\n",
       "      <td>0.0</td>\n",
       "      <td>14503.000000</td>\n",
       "      <td>0.000000</td>\n",
       "      <td>809.275000</td>\n",
       "      <td>1758.445000</td>\n",
       "      <td>7.46000</td>\n",
       "      <td>24.925000</td>\n",
       "      <td>22.030000</td>\n",
       "      <td>121.000000</td>\n",
       "    </tr>\n",
       "    <tr>\n",
       "      <th>75%</th>\n",
       "      <td>74.250000</td>\n",
       "      <td>410.488500</td>\n",
       "      <td>225.271000</td>\n",
       "      <td>115.952500</td>\n",
       "      <td>5.600000</td>\n",
       "      <td>37.250000</td>\n",
       "      <td>2.000000</td>\n",
       "      <td>193.207500</td>\n",
       "      <td>57.680000</td>\n",
       "      <td>132.987500</td>\n",
       "      <td>...</td>\n",
       "      <td>87544.250000</td>\n",
       "      <td>0.0</td>\n",
       "      <td>32612.750000</td>\n",
       "      <td>0.000000</td>\n",
       "      <td>1326.270000</td>\n",
       "      <td>2409.995000</td>\n",
       "      <td>9.27000</td>\n",
       "      <td>35.080000</td>\n",
       "      <td>27.262500</td>\n",
       "      <td>173.000000</td>\n",
       "    </tr>\n",
       "    <tr>\n",
       "      <th>max</th>\n",
       "      <td>100.000000</td>\n",
       "      <td>846.297000</td>\n",
       "      <td>279.393000</td>\n",
       "      <td>135.600000</td>\n",
       "      <td>6.100000</td>\n",
       "      <td>50.000000</td>\n",
       "      <td>2.000000</td>\n",
       "      <td>204.580000</td>\n",
       "      <td>60.510000</td>\n",
       "      <td>427.900000</td>\n",
       "      <td>...</td>\n",
       "      <td>121277.000000</td>\n",
       "      <td>0.0</td>\n",
       "      <td>49042.000000</td>\n",
       "      <td>6.000000</td>\n",
       "      <td>2970.190000</td>\n",
       "      <td>20608.470000</td>\n",
       "      <td>18.72000</td>\n",
       "      <td>84.300000</td>\n",
       "      <td>53.290000</td>\n",
       "      <td>423.000000</td>\n",
       "    </tr>\n",
       "  </tbody>\n",
       "</table>\n",
       "<p>8 rows × 39 columns</p>\n",
       "</div>"
      ],
      "text/plain": [
       "       Probe Number  Test duration  Connection duration  callSetupTime  \\\n",
       "count     88.000000      88.000000            88.000000      88.000000   \n",
       "mean      48.454545     405.797375           163.428273      55.488636   \n",
       "std       29.104216      48.501454            56.307307      54.201644   \n",
       "min        1.000000     377.233000            63.570000       2.150000   \n",
       "25%       22.750000     392.392500           114.934000       4.000000   \n",
       "50%       48.500000     400.164500           163.867000      31.500000   \n",
       "75%       74.250000     410.488500           225.271000     115.952500   \n",
       "max      100.000000     846.297000           279.393000     135.600000   \n",
       "\n",
       "           score  sessionNumber  inSessionIdx  audioBitrate_In  \\\n",
       "count  88.000000      88.000000     88.000000        88.000000   \n",
       "mean    5.422727      24.477273      1.500000       108.206932   \n",
       "std     0.238639      14.549936      0.502865        66.860037   \n",
       "min     4.600000       1.000000      1.000000        22.890000   \n",
       "25%     5.300000      11.750000      1.000000        54.522500   \n",
       "50%     5.500000      24.500000      1.500000        59.130000   \n",
       "75%     5.600000      37.250000      2.000000       193.207500   \n",
       "max     6.100000      50.000000      2.000000       204.580000   \n",
       "\n",
       "       audioBitrate_Out  audioBitrate_In_Max  ...  videoPackets_In  \\\n",
       "count         88.000000            88.000000  ...        88.000000   \n",
       "mean          39.948409           116.156591  ...     50564.613636   \n",
       "std           14.934719            86.398323  ...     39060.453175   \n",
       "min            0.000000            32.950000  ...      5978.000000   \n",
       "25%           28.762500            55.042500  ...     17805.750000   \n",
       "50%           29.980000            86.680000  ...     29105.500000   \n",
       "75%           57.680000           132.987500  ...     87544.250000   \n",
       "max           60.510000           427.900000  ...    121277.000000   \n",
       "\n",
       "       videoPacketsLoss_In  videoPackets_Out  videoPacketsLoss_Out  \\\n",
       "count                 88.0         88.000000             88.000000   \n",
       "mean                   0.0      21507.522727              0.181818   \n",
       "std                    0.0      13457.706395              0.703774   \n",
       "min                    0.0          0.000000              0.000000   \n",
       "25%                    0.0      10607.000000              0.000000   \n",
       "50%                    0.0      14503.000000              0.000000   \n",
       "75%                    0.0      32612.750000              0.000000   \n",
       "max                    0.0      49042.000000              6.000000   \n",
       "\n",
       "       videoJitter_In  videoJitter_In_Max  videoJitter_Out  \\\n",
       "count       88.000000           88.000000         88.00000   \n",
       "mean       903.003182         1921.354886          8.20625   \n",
       "std        578.634386         2279.854525          2.61144   \n",
       "min         69.300000           75.700000          0.00000   \n",
       "25%        468.060000         1062.547500          6.70500   \n",
       "50%        809.275000         1758.445000          7.46000   \n",
       "75%       1326.270000         2409.995000          9.27000   \n",
       "max       2970.190000        20608.470000         18.72000   \n",
       "\n",
       "       videoJitter_Out_Max  videoRoundtrip  videoRoundtrip_Max  \n",
       "count            88.000000       88.000000           88.000000  \n",
       "mean             29.415455       24.637955          131.193182  \n",
       "std              15.544187        7.699508           80.313160  \n",
       "min               0.000000        0.000000            0.000000  \n",
       "25%              19.090000       20.180000           63.750000  \n",
       "50%              24.925000       22.030000          121.000000  \n",
       "75%              35.080000       27.262500          173.000000  \n",
       "max              84.300000       53.290000          423.000000  \n",
       "\n",
       "[8 rows x 39 columns]"
      ]
     },
     "execution_count": 8,
     "metadata": {},
     "output_type": "execute_result"
    }
   ],
   "source": [
    "df1.describe()"
   ]
  },
  {
   "cell_type": "code",
   "execution_count": 9,
   "metadata": {},
   "outputs": [
    {
     "data": {
      "text/plain": [
       "5.422727272727273"
      ]
     },
     "execution_count": 9,
     "metadata": {},
     "output_type": "execute_result"
    }
   ],
   "source": [
    "#Score\n",
    "st.mean(df1['score'])"
   ]
  },
  {
   "cell_type": "markdown",
   "metadata": {},
   "source": [
    "<h3>Dados Vídeo</h3>"
   ]
  },
  {
   "cell_type": "code",
   "execution_count": 10,
   "metadata": {},
   "outputs": [
    {
     "name": "stdout",
     "output_type": "stream",
     "text": [
      "videoBitrate_In\n",
      "5794.44\n",
      "510.98\n",
      "2863.016590909091\n"
     ]
    }
   ],
   "source": [
    "# videoBitrate_In\n",
    "print('videoBitrate_In')\n",
    "print(max(df1['videoBitrate_In']))\n",
    "print(min(df1['videoBitrate_In']))\n",
    "print(st.mean(df1['videoBitrate_In']))"
   ]
  },
  {
   "cell_type": "code",
   "execution_count": 11,
   "metadata": {},
   "outputs": [
    {
     "name": "stdout",
     "output_type": "stream",
     "text": [
      "videoBitrate_Out\n",
      "1739.17\n",
      "0.0\n",
      "1041.9640909090908\n"
     ]
    }
   ],
   "source": [
    "# videoBitrate_Out\n",
    "print('videoBitrate_Out')\n",
    "print(max(df1['videoBitrate_Out']))\n",
    "print(min(df1['videoBitrate_Out']))\n",
    "print(st.mean(df1['videoBitrate_Out']))"
   ]
  },
  {
   "cell_type": "code",
   "execution_count": 12,
   "metadata": {},
   "outputs": [
    {
     "name": "stdout",
     "output_type": "stream",
     "text": [
      "videoBitrate_In_Max\n",
      "2887.02\n",
      "998.31\n",
      "1432.135\n"
     ]
    }
   ],
   "source": [
    "# videoBitrate_In_Max\n",
    "print('videoBitrate_In_Max')\n",
    "print(max(df1['videoBitrate_In_Max']))\n",
    "print(min(df1['videoBitrate_In_Max']))\n",
    "print(st.mean(df1['videoBitrate_In_Max']))"
   ]
  },
  {
   "cell_type": "code",
   "execution_count": 13,
   "metadata": {},
   "outputs": [
    {
     "name": "stdout",
     "output_type": "stream",
     "text": [
      "0\n"
     ]
    }
   ],
   "source": [
    "#Perca de pacotes vódeo entrada\n",
    "perca_pacotes_video_entrada = df1.query('videoPacketsLoss_In > 0.')\n",
    "print(len(perca_pacotes_video_entrada))"
   ]
  },
  {
   "cell_type": "code",
   "execution_count": 14,
   "metadata": {},
   "outputs": [
    {
     "name": "stdout",
     "output_type": "stream",
     "text": [
      "12\n"
     ]
    }
   ],
   "source": [
    "#Perca de pacotes vódeo saída\n",
    "perca_pacotes_video_saida = df1.query('videoPacketsLoss_Out > 0.')\n",
    "print(len(perca_pacotes_video_saida))"
   ]
  },
  {
   "cell_type": "markdown",
   "metadata": {},
   "source": [
    "<h3>Dados Audio</h3>"
   ]
  },
  {
   "cell_type": "code",
   "execution_count": 15,
   "metadata": {},
   "outputs": [
    {
     "name": "stdout",
     "output_type": "stream",
     "text": [
      "audioBitrate_In\n",
      "204.58\n",
      "22.89\n",
      "108.20693181818181\n"
     ]
    }
   ],
   "source": [
    "# audioBitrate_In\n",
    "print('audioBitrate_In')\n",
    "print(max(df1['audioBitrate_In']))\n",
    "print(min(df1['audioBitrate_In']))\n",
    "print(st.mean(df1['audioBitrate_In']))"
   ]
  },
  {
   "cell_type": "code",
   "execution_count": 16,
   "metadata": {},
   "outputs": [
    {
     "name": "stdout",
     "output_type": "stream",
     "text": [
      "audioBitrate_Out\n",
      "60.51\n",
      "0.0\n",
      "39.94840909090909\n"
     ]
    }
   ],
   "source": [
    "# audioBitrate_Out\n",
    "print('audioBitrate_Out')\n",
    "print(max(df1['audioBitrate_Out']))\n",
    "print(min(df1['audioBitrate_Out']))\n",
    "print(st.mean(df1['audioBitrate_Out']))"
   ]
  },
  {
   "cell_type": "code",
   "execution_count": 17,
   "metadata": {},
   "outputs": [
    {
     "name": "stdout",
     "output_type": "stream",
     "text": [
      "audioBitrate_In_Max\n",
      "427.9\n",
      "32.95\n",
      "116.15659090909091\n"
     ]
    }
   ],
   "source": [
    "#audioBitrate_In_Max\n",
    "print('audioBitrate_In_Max')\n",
    "print(max(df1['audioBitrate_In_Max']))\n",
    "print(min(df1['audioBitrate_In_Max']))\n",
    "print(st.mean(df1['audioBitrate_In_Max']))"
   ]
  },
  {
   "cell_type": "code",
   "execution_count": 18,
   "metadata": {},
   "outputs": [
    {
     "name": "stdout",
     "output_type": "stream",
     "text": [
      "audioBitrate_In_Min\n",
      "27.05\n",
      "0.0\n",
      "4.232045454545455\n"
     ]
    }
   ],
   "source": [
    "#audioBitrate_In_Min\n",
    "print('audioBitrate_In_Min')\n",
    "print(max(df1['audioBitrate_In_Min']))\n",
    "print(min(df1['audioBitrate_In_Min']))\n",
    "print(st.mean(df1['audioBitrate_In_Min']))"
   ]
  },
  {
   "cell_type": "code",
   "execution_count": 19,
   "metadata": {},
   "outputs": [
    {
     "name": "stdout",
     "output_type": "stream",
     "text": [
      "audioBitrate_Out_Max\n",
      "197.21\n",
      "0.0\n",
      "57.544886363636365\n"
     ]
    }
   ],
   "source": [
    "#audioBitrate_Out_Max\n",
    "print('audioBitrate_Out_Max')\n",
    "print(max(df1['audioBitrate_Out_Max']))\n",
    "print(min(df1['audioBitrate_Out_Max']))\n",
    "print(st.mean(df1['audioBitrate_Out_Max']))"
   ]
  },
  {
   "cell_type": "code",
   "execution_count": 20,
   "metadata": {},
   "outputs": [
    {
     "name": "stdout",
     "output_type": "stream",
     "text": [
      "audioBitrate_Out_Min\n",
      "22.21\n",
      "0.0\n",
      "13.258522727272727\n"
     ]
    }
   ],
   "source": [
    "#audioBitrate_Out_Min\n",
    "print('audioBitrate_Out_Min')\n",
    "print(max(df1['audioBitrate_Out_Min']))\n",
    "print(min(df1['audioBitrate_Out_Min']))\n",
    "print(st.mean(df1['audioBitrate_Out_Min']))"
   ]
  },
  {
   "cell_type": "code",
   "execution_count": 21,
   "metadata": {},
   "outputs": [
    {
     "name": "stdout",
     "output_type": "stream",
     "text": [
      "audioJitter_In\n",
      "28.46\n",
      "6.33\n",
      "14.767386363636364\n"
     ]
    }
   ],
   "source": [
    "#audioJitter_In\n",
    "print('audioJitter_In')\n",
    "print(max(df1['audioJitter_In']))\n",
    "print(min(df1['audioJitter_In']))\n",
    "print(st.mean(df1['audioJitter_In']))"
   ]
  },
  {
   "cell_type": "code",
   "execution_count": 22,
   "metadata": {},
   "outputs": [
    {
     "name": "stdout",
     "output_type": "stream",
     "text": [
      "audioJitter_In_Max\n",
      "341\n",
      "11\n",
      "67.01136363636364\n"
     ]
    }
   ],
   "source": [
    "#audioJitter_In_Max\n",
    "print('audioJitter_In_Max')\n",
    "print(max(df1['audioJitter_In_Max']))\n",
    "print(min(df1['audioJitter_In_Max']))\n",
    "print(st.mean(df1['audioJitter_In_Max']))"
   ]
  },
  {
   "cell_type": "code",
   "execution_count": 23,
   "metadata": {},
   "outputs": [
    {
     "name": "stdout",
     "output_type": "stream",
     "text": [
      "audioJitter_Out\n",
      "16.64\n",
      "0.0\n",
      "9.07409090909091\n"
     ]
    }
   ],
   "source": [
    "#audioJitter_Out\n",
    "print('audioJitter_Out')\n",
    "print(max(df1['audioJitter_Out']))\n",
    "print(min(df1['audioJitter_Out']))\n",
    "print(st.mean(df1['audioJitter_Out']))"
   ]
  },
  {
   "cell_type": "code",
   "execution_count": 24,
   "metadata": {},
   "outputs": [
    {
     "name": "stdout",
     "output_type": "stream",
     "text": [
      "audioJitter_Out_Max\n",
      "51.58\n",
      "0.0\n",
      "18.34193181818182\n"
     ]
    }
   ],
   "source": [
    "#audioJitter_Out_Max\n",
    "print('audioJitter_Out_Max')\n",
    "print(max(df1['audioJitter_Out_Max']))\n",
    "print(min(df1['audioJitter_Out_Max']))\n",
    "print(st.mean(df1['audioJitter_Out_Max']))"
   ]
  },
  {
   "cell_type": "code",
   "execution_count": 25,
   "metadata": {},
   "outputs": [
    {
     "name": "stdout",
     "output_type": "stream",
     "text": [
      "audioRoundtrip\n",
      "67.63\n",
      "0.0\n",
      "26.020227272727272\n"
     ]
    }
   ],
   "source": [
    "#audioRoundtrip\n",
    "print('audioRoundtrip')\n",
    "print(max(df1['audioRoundtrip']))\n",
    "print(min(df1['audioRoundtrip']))\n",
    "print(st.mean(df1['audioRoundtrip']))"
   ]
  },
  {
   "cell_type": "code",
   "execution_count": 26,
   "metadata": {},
   "outputs": [
    {
     "name": "stdout",
     "output_type": "stream",
     "text": [
      "audioRoundtrip_Max\n",
      "355\n",
      "0\n",
      "81.9659090909091\n"
     ]
    }
   ],
   "source": [
    "#audioRoundtrip_Max\n",
    "print('audioRoundtrip_Max')\n",
    "print(max(df1['audioRoundtrip_Max']))\n",
    "print(min(df1['audioRoundtrip_Max']))\n",
    "print(st.mean(df1['audioRoundtrip_Max']))"
   ]
  },
  {
   "cell_type": "code",
   "execution_count": 27,
   "metadata": {},
   "outputs": [
    {
     "name": "stdout",
     "output_type": "stream",
     "text": [
      "70\n"
     ]
    }
   ],
   "source": [
    "#Perca de pacotes audio entrada QTD\n",
    "perca_pacotes_audio_entrada = df1.query('audioPacketsLoss_In > 0.')\n",
    "print(len(perca_pacotes_audio_entrada))\n"
   ]
  },
  {
   "cell_type": "code",
   "execution_count": 28,
   "metadata": {},
   "outputs": [
    {
     "name": "stdout",
     "output_type": "stream",
     "text": [
      "87\n"
     ]
    }
   ],
   "source": [
    "#Perca de pacotes audio saída QTD\n",
    "perca_pacotes_audio_saida = df1.query('audioPackets_Out > 0.')\n",
    "print(len(perca_pacotes_audio_saida))"
   ]
  },
  {
   "cell_type": "code",
   "execution_count": 29,
   "metadata": {},
   "outputs": [],
   "source": [
    "erro = df['reason']\n",
    "info = []\n",
    "for i in erro:\n",
    "    info.append(i)"
   ]
  },
  {
   "cell_type": "code",
   "execution_count": 30,
   "metadata": {},
   "outputs": [
    {
     "data": {
      "text/plain": [
       "[\"https:/www.staging.liviasaude.com.br/vendors~main-bdd68c069090be26c58d.js 1:938443 Uncaught TypeError: Cannot read property 'addEventListener' of null\",\n",
       " 'Error while running .navigateTo) protocol action: An unknown error has occurred.',\n",
       " \"https:/www.staging.liviasaude.com.br/vendors~main-bdd68c069090be26c58d.js 1:938443 Uncaught TypeError: Cannot read property 'addEventListener' of null\",\n",
       " 'Error while running .navigateTo) protocol action: An unknown error has occurred.',\n",
       " \"https:/www.staging.liviasaude.com.br/vendors~main-bdd68c069090be26c58d.js 1:938443 Uncaught TypeError: Cannot read property 'addEventListener' of null\",\n",
       " 'Error while running .navigateTo) protocol action: An unknown error has occurred.',\n",
       " \"https:/www.staging.liviasaude.com.br/vendors~main-bdd68c069090be26c58d.js 1:938443 Uncaught TypeError: Cannot read property 'addEventListener' of null\",\n",
       " 'Error while running .navigateTo) protocol action: An unknown error has occurred.',\n",
       " \"https:/www.staging.liviasaude.com.br/vendors~main-bdd68c069090be26c58d.js 1:938443 Uncaught TypeError: Cannot read property 'addEventListener' of null\",\n",
       " 'Error while running .navigateTo) protocol action: An unknown error has occurred.',\n",
       " 'https:/www.staging.liviasaude.com.br/assetslv2/img/seta-link.svg - Failed to load resource: the server responded with a status of 502 (Bad Gateway)',\n",
       " 'Error while running .navigateTo) protocol action: An unknown error has occurred.',\n",
       " \"https:/www.staging.liviasaude.com.br/vendors~main-bdd68c069090be26c58d.js 1:938443 Uncaught TypeError: Cannot read property 'addEventListener' of null\",\n",
       " 'Error while running .navigateTo) protocol action: An unknown error has occurred.',\n",
       " 'Error while running .elementSubmit) protocol action: stale element reference: element is not attached to the page document',\n",
       " 'Error while running .navigateTo) protocol action: An unknown error has occurred.',\n",
       " \"https:/www.staging.liviasaude.com.br/vendors~main-bdd68c069090be26c58d.js 1:938443 Uncaught TypeError: Cannot read property 'addEventListener' of null\",\n",
       " 'Error while running .navigateTo) protocol action: An unknown error has occurred.',\n",
       " \"https:/www.staging.liviasaude.com.br/vendors~main-bdd68c069090be26c58d.js 1:938443 Uncaught TypeError: Cannot read property 'addEventListener' of null\",\n",
       " 'Error while running .navigateTo) protocol action: An unknown error has occurred.',\n",
       " 'https:/www.staging.liviasaude.com.br/assetslv2/js/owl.carousel.min.js - Failed to load resource: the server responded with a status of 502 (Bad Gateway)',\n",
       " 'Error while running .navigateTo) protocol action: An unknown error has occurred.',\n",
       " \"https:/www.staging.liviasaude.com.br/vendors~main-bdd68c069090be26c58d.js 1:938443 Uncaught TypeError: Cannot read property 'addEventListener' of null\",\n",
       " 'Error while running .navigateTo) protocol action: An unknown error has occurred.',\n",
       " 'https:/www.staging.liviasaude.com.br/assetslv2/img/seta-link.svg - Failed to load resource: the server responded with a status of 502 (Bad Gateway)',\n",
       " 'Error while running .navigateTo) protocol action: An unknown error has occurred.',\n",
       " \"https:/www.staging.liviasaude.com.br/vendors~main-bdd68c069090be26c58d.js 1:938443 Uncaught TypeError: Cannot read property 'addEventListener' of null\",\n",
       " 'Error while running .navigateTo) protocol action: An unknown error has occurred.',\n",
       " 'Error while running .elementSubmit) protocol action: stale element reference: element is not attached to the page document',\n",
       " 'Error while running .navigateTo) protocol action: An unknown error has occurred.',\n",
       " \"https:/www.staging.liviasaude.com.br/vendors~main-bdd68c069090be26c58d.js 1:938443 Uncaught TypeError: Cannot read property 'addEventListener' of null\",\n",
       " 'Error while running .navigateTo) protocol action: An unknown error has occurred.',\n",
       " ' Timed out while waiting for element <textarea[name=\"conduct\"]> to be visible for 500000 milliseconds. - expected \"visible\" but got: \"not visible\" (500414ms), waitForElementVisible (\\'textarea[name=\"conduct\"]\\', 500000) (Line:174)',\n",
       " 'Error while running .navigateTo) protocol action: An unknown error has occurred.',\n",
       " 'Error while running .navigateTo) protocol action: An unknown error has occurred.',\n",
       " ' Timed out while waiting for element <#header > div.header-container > div.header-topo > a> to be present for 500000 milliseconds. - expected \"visible\" but got: \"not found\" (500085ms), waitForElementVisible (\\'#header > div.header-container > div.header-topo > a\\', 500000) (Line:196)',\n",
       " 'https:/www.staging.liviasaude.com.br/assetslv2/img/marca-delboni.svg - Failed to load resource: the server responded with a status of 502 (Bad Gateway)',\n",
       " 'Error while running .navigateTo) protocol action: An unknown error has occurred.',\n",
       " 'Error while running .navigateTo) protocol action: An unknown error has occurred.',\n",
       " 'Error while running .navigateTo) protocol action: An unknown error has occurred.',\n",
       " 'https:/www.staging.liviasaude.com.br/assetslv2/img/seta-next.svg - Failed to load resource: the server responded with a status of 502 (Bad Gateway)',\n",
       " 'Error while running .navigateTo) protocol action: An unknown error has occurred.',\n",
       " \"https:/www.staging.liviasaude.com.br/vendors~main-bdd68c069090be26c58d.js 1:938443 Uncaught TypeError: Cannot read property 'addEventListener' of null\",\n",
       " 'Error while running .navigateTo) protocol action: An unknown error has occurred.',\n",
       " 'Error while running .elementSubmit) protocol action: stale element reference: element is not attached to the page document',\n",
       " 'Error while running .navigateTo) protocol action: An unknown error has occurred.',\n",
       " \"https:/www.staging.liviasaude.com.br/vendors~main-bdd68c069090be26c58d.js 1:938443 Uncaught TypeError: Cannot read property 'addEventListener' of null\",\n",
       " 'Error while running .navigateTo) protocol action: An unknown error has occurred.',\n",
       " \"https:/www.staging.liviasaude.com.br/vendors~main-bdd68c069090be26c58d.js 1:938443 Uncaught TypeError: Cannot read property 'addEventListener' of null\",\n",
       " 'Error while running .navigateTo) protocol action: An unknown error has occurred.',\n",
       " \"https:/www.staging.liviasaude.com.br/vendors~main-bdd68c069090be26c58d.js 1:938443 Uncaught TypeError: Cannot read property 'addEventListener' of null\",\n",
       " 'Error while running .navigateTo) protocol action: An unknown error has occurred.',\n",
       " \"https:/www.staging.liviasaude.com.br/vendors~main-bdd68c069090be26c58d.js 1:938443 Uncaught TypeError: Cannot read property 'addEventListener' of null\",\n",
       " 'Error while running .navigateTo) protocol action: An unknown error has occurred.',\n",
       " \"https:/www.staging.liviasaude.com.br/vendors~main-bdd68c069090be26c58d.js 1:938443 Uncaught TypeError: Cannot read property 'addEventListener' of null\",\n",
       " 'Error while running .navigateTo) protocol action: An unknown error has occurred.',\n",
       " \"https:/www.staging.liviasaude.com.br/vendors~main-bdd68c069090be26c58d.js 1:938443 Uncaught TypeError: Cannot read property 'addEventListener' of null\",\n",
       " 'Error while running .navigateTo) protocol action: An unknown error has occurred.',\n",
       " \"https:/www.staging.liviasaude.com.br/vendors~main-bdd68c069090be26c58d.js 1:938443 Uncaught TypeError: Cannot read property 'addEventListener' of null\",\n",
       " 'Error while running .navigateTo) protocol action: An unknown error has occurred.',\n",
       " 'Error while running .elementSubmit) protocol action: stale element reference: element is not attached to the page document',\n",
       " ' Timed out while waiting for element <#header > div.header-container > div.header-topo > a> to be present for 500000 milliseconds. - expected \"visible\" but got: \"not found\" (500264ms), waitForElementVisible (\\'#header > div.header-container > div.header-topo > a\\', 500000) (Line:196)',\n",
       " 'https:/www.staging.liviasaude.com.br/assetslv2/img/marca-delboni.svg - Failed to load resource: the server responded with a status of 502 (Bad Gateway)',\n",
       " 'Error while running .navigateTo) protocol action: An unknown error has occurred.',\n",
       " 'https:/www.staging.liviasaude.com.br/assetslv2/img/seta-next.svg - Failed to load resource: the server responded with a status of 502 (Bad Gateway)',\n",
       " 'Error while running .navigateTo) protocol action: An unknown error has occurred.',\n",
       " 'Test timeout after 1020s',\n",
       " ' Timed out while waiting for element <#header > div.header-container > div.header-topo > a> to be present for 500000 milliseconds. - expected \"visible\" but got: \"not found\" (500470ms), waitForElementVisible (\\'#header > div.header-container > div.header-topo > a\\', 500000) (Line:196)',\n",
       " \"https:/www.staging.liviasaude.com.br/vendors~main-bdd68c069090be26c58d.js 1:938443 Uncaught TypeError: Cannot read property 'addEventListener' of null\",\n",
       " 'Error while running .navigateTo) protocol action: An unknown error has occurred.',\n",
       " 'https:/www.staging.liviasaude.com.br/assetslv2/img/img-consultas-desktop.jpg - Failed to load resource: the server responded with a status of 502 (Bad Gateway)',\n",
       " 'Error while running .navigateTo) protocol action: An unknown error has occurred.',\n",
       " \"https:/www.staging.liviasaude.com.br/vendors~main-bdd68c069090be26c58d.js 1:938443 Uncaught TypeError: Cannot read property 'addEventListener' of null\",\n",
       " 'Error while running .navigateTo) protocol action: An unknown error has occurred.',\n",
       " 'https:/www.staging.liviasaude.com.br/assetslv2/img/img-consultas-desktop.jpg - Failed to load resource: the server responded with a status of 502 (Bad Gateway)',\n",
       " 'Error while running .navigateTo) protocol action: An unknown error has occurred.',\n",
       " \"https:/www.staging.liviasaude.com.br/vendors~main-bdd68c069090be26c58d.js 1:938443 Uncaught TypeError: Cannot read property 'addEventListener' of null\",\n",
       " 'Error while running .navigateTo) protocol action: An unknown error has occurred.',\n",
       " \"https:/www.staging.liviasaude.com.br/vendors~main-bdd68c069090be26c58d.js 1:938443 Uncaught TypeError: Cannot read property 'addEventListener' of null\",\n",
       " 'Error while running .navigateTo) protocol action: An unknown error has occurred.',\n",
       " \"https:/www.staging.liviasaude.com.br/vendors~main-bdd68c069090be26c58d.js 1:938443 Uncaught TypeError: Cannot read property 'addEventListener' of null\",\n",
       " 'Error while running .navigateTo) protocol action: An unknown error has occurred.',\n",
       " \"https:/www.staging.liviasaude.com.br/vendors~main-bdd68c069090be26c58d.js 1:938443 Uncaught TypeError: Cannot read property 'addEventListener' of null\",\n",
       " 'Error while running .navigateTo) protocol action: An unknown error has occurred.',\n",
       " 'https:/www.staging.liviasaude.com.br/assetslv2/img/img-consultas-desktop.jpg - Failed to load resource: the server responded with a status of 502 (Bad Gateway)',\n",
       " 'Error while running .navigateTo) protocol action: An unknown error has occurred.',\n",
       " 'https:/www.staging.liviasaude.com.br/assetslv2/js/scripts.min.js - Failed to load resource: the server responded with a status of 502 (Bad Gateway)',\n",
       " 'Error while running .navigateTo) protocol action: An unknown error has occurred.',\n",
       " 'https:/www.staging.liviasaude.com.br/assetslv2/img/seta-link.svg - Failed to load resource: the server responded with a status of 502 (Bad Gateway)',\n",
       " 'Error while running .navigateTo) protocol action: An unknown error has occurred.',\n",
       " \"https:/www.staging.liviasaude.com.br/vendors~main-bdd68c069090be26c58d.js 1:938443 Uncaught TypeError: Cannot read property 'addEventListener' of null\",\n",
       " 'Error while running .navigateTo) protocol action: An unknown error has occurred.',\n",
       " 'Test timeout after 1020s',\n",
       " 'Error while running .navigateTo) protocol action: An unknown error has occurred.',\n",
       " 'Test timeout after 1020s',\n",
       " ' Timed out while waiting for element <#header > div.header-container > div.header-topo > a> to be present for 500000 milliseconds. - expected \"visible\" but got: \"not found\" (500287ms), waitForElementVisible (\\'#header > div.header-container > div.header-topo > a\\', 500000) (Line:196)',\n",
       " \"https:/www.staging.liviasaude.com.br/vendors~main-bdd68c069090be26c58d.js 1:938443 Uncaught TypeError: Cannot read property 'addEventListener' of null\",\n",
       " 'Error while running .navigateTo) protocol action: An unknown error has occurred.',\n",
       " \"https:/www.staging.liviasaude.com.br/vendors~main-bdd68c069090be26c58d.js 1:938443 Uncaught TypeError: Cannot read property 'addEventListener' of null\",\n",
       " 'Error while running .navigateTo) protocol action: An unknown error has occurred.']"
      ]
     },
     "execution_count": 30,
     "metadata": {},
     "output_type": "execute_result"
    }
   ],
   "source": [
    "info"
   ]
  },
  {
   "cell_type": "code",
   "execution_count": 9,
   "metadata": {},
   "outputs": [
    {
     "data": {
      "text/plain": [
       "100"
      ]
     },
     "execution_count": 9,
     "metadata": {},
     "output_type": "execute_result"
    }
   ],
   "source": [
    "len(info)"
   ]
  },
  {
   "cell_type": "code",
   "execution_count": 31,
   "metadata": {},
   "outputs": [
    {
     "data": {
      "application/vnd.jupyter.widget-view+json": {
       "model_id": "31adecb84caa4a3fbe4b2e44378e5ca4",
       "version_major": 2,
       "version_minor": 0
      },
      "text/plain": [
       "HBox(children=(HTML(value='Summarize dataset'), FloatProgress(value=0.0, max=64.0), HTML(value='')))"
      ]
     },
     "metadata": {},
     "output_type": "display_data"
    },
    {
     "name": "stdout",
     "output_type": "stream",
     "text": [
      "\n"
     ]
    },
    {
     "data": {
      "application/vnd.jupyter.widget-view+json": {
       "model_id": "d8f2dbc9e7ad49278580ac765104c6ed",
       "version_major": 2,
       "version_minor": 0
      },
      "text/plain": [
       "HBox(children=(HTML(value='Generate report structure'), FloatProgress(value=0.0, max=1.0), HTML(value='')))"
      ]
     },
     "metadata": {},
     "output_type": "display_data"
    },
    {
     "name": "stdout",
     "output_type": "stream",
     "text": [
      "\n"
     ]
    },
    {
     "data": {
      "application/vnd.jupyter.widget-view+json": {
       "model_id": "465dd8e7518544588d7cfa064d2c7e52",
       "version_major": 2,
       "version_minor": 0
      },
      "text/plain": [
       "HBox(children=(HTML(value='Render HTML'), FloatProgress(value=0.0, max=1.0), HTML(value='')))"
      ]
     },
     "metadata": {},
     "output_type": "display_data"
    },
    {
     "name": "stdout",
     "output_type": "stream",
     "text": [
      "\n"
     ]
    },
    {
     "data": {
      "application/vnd.jupyter.widget-view+json": {
       "model_id": "ba0dc9fc92dd4438a57162a8b0ca70be",
       "version_major": 2,
       "version_minor": 0
      },
      "text/plain": [
       "HBox(children=(HTML(value='Export report to file'), FloatProgress(value=0.0, max=1.0), HTML(value='')))"
      ]
     },
     "metadata": {},
     "output_type": "display_data"
    },
    {
     "name": "stdout",
     "output_type": "stream",
     "text": [
      "\n"
     ]
    }
   ],
   "source": [
    "from pandas_profiling import ProfileReport\n",
    "profile = ProfileReport(df1, minimal=True)\n",
    "profile.to_file(\"Analise_dados_01_node_100_50_final.html\")"
   ]
  },
  {
   "cell_type": "code",
   "execution_count": null,
   "metadata": {},
   "outputs": [],
   "source": []
  }
 ],
 "metadata": {
  "kernelspec": {
   "display_name": "Python 3",
   "language": "python",
   "name": "python3"
  },
  "language_info": {
   "codemirror_mode": {
    "name": "ipython",
    "version": 3
   },
   "file_extension": ".py",
   "mimetype": "text/x-python",
   "name": "python",
   "nbconvert_exporter": "python",
   "pygments_lexer": "ipython3",
   "version": "3.8.5"
  }
 },
 "nbformat": 4,
 "nbformat_minor": 4
}
