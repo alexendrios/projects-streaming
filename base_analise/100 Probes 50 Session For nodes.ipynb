{
 "cells": [
  {
   "cell_type": "code",
   "execution_count": 85,
   "metadata": {},
   "outputs": [],
   "source": [
    "import pandas as pd\n",
    "import numpy as np\n",
    "import statistics as st"
   ]
  },
  {
   "cell_type": "code",
   "execution_count": 12,
   "metadata": {
    "scrolled": true
   },
   "outputs": [],
   "source": [
    "df = pd.read_csv('quixotic-meat.csv')"
   ]
  },
  {
   "cell_type": "code",
   "execution_count": 13,
   "metadata": {},
   "outputs": [
    {
     "data": {
      "text/plain": [
       "(100, 55)"
      ]
     },
     "execution_count": 13,
     "metadata": {},
     "output_type": "execute_result"
    }
   ],
   "source": [
    "df.shape"
   ]
  },
  {
   "cell_type": "code",
   "execution_count": 14,
   "metadata": {},
   "outputs": [
    {
     "data": {
      "text/plain": [
       "Index(['Probe Number', 'Probe Name', 'OS', 'Media', 'Test start time',\n",
       "       'Test duration', 'Connection start time', 'Connection duration',\n",
       "       'callSetupTime', 'score', 'sessionNumber', 'inSessionIdx', 'networking',\n",
       "       'firewall', 'browser', 'location', 'status', 'URL', 'reason',\n",
       "       'audioBitrate_In', 'audioBitrate_Out', 'audioBitrate_In_Max',\n",
       "       'audioBitrate_In_Min', 'audioBitrate_Out_Max', 'audioBitrate_Out_Min',\n",
       "       'audioPackets_In', 'audioPacketsLoss_In', 'audioPacketsLossPercent_In',\n",
       "       'audioPackets_Out', 'audioPacketsLoss_Out',\n",
       "       'audioPacketsLossPercent_Out', 'audioJitter_In', 'audioJitter_In_Max',\n",
       "       'audioJitter_Out', 'audioJitter_Out_Max', 'audioRoundtrip',\n",
       "       'audioRoundtrip_Max', 'videoBitrate_In', 'videoBitrate_Out',\n",
       "       'videoBitrate_In_Max', 'videoBitrate_In_Min', 'videoBitrate_Out_Max',\n",
       "       'videoBitrate_Out_Min', 'videoPackets_In', 'videoPacketsLoss_In',\n",
       "       'videoPacketsLossPercent_In', 'videoPackets_Out',\n",
       "       'videoPacketsLoss_Out', 'videoPacketsLossPercent_Out', 'videoJitter_In',\n",
       "       'videoJitter_In_Max', 'videoJitter_Out', 'videoJitter_Out_Max',\n",
       "       'videoRoundtrip', 'videoRoundtrip_Max'],\n",
       "      dtype='object')"
      ]
     },
     "execution_count": 14,
     "metadata": {},
     "output_type": "execute_result"
    }
   ],
   "source": [
    "df.columns"
   ]
  },
  {
   "cell_type": "code",
   "execution_count": 84,
   "metadata": {},
   "outputs": [],
   "source": [
    "df1 = df.query('score > 0.')"
   ]
  },
  {
   "cell_type": "code",
   "execution_count": 17,
   "metadata": {},
   "outputs": [
    {
     "name": "stdout",
     "output_type": "stream",
     "text": [
      "88\n",
      "(88, 55)\n"
     ]
    }
   ],
   "source": [
    "print(len(df1))\n",
    "print(df1.shape)"
   ]
  },
  {
   "cell_type": "code",
   "execution_count": null,
   "metadata": {},
   "outputs": [],
   "source": [
    "df1.describe()"
   ]
  },
  {
   "cell_type": "code",
   "execution_count": 29,
   "metadata": {},
   "outputs": [
    {
     "data": {
      "text/plain": [
       "5.422727272727273"
      ]
     },
     "execution_count": 29,
     "metadata": {},
     "output_type": "execute_result"
    }
   ],
   "source": [
    "#Score\n",
    "st.mean(df1['score'])"
   ]
  },
  {
   "cell_type": "markdown",
   "metadata": {},
   "source": [
    "<h3>Dados Vídeo</h3>"
   ]
  },
  {
   "cell_type": "code",
   "execution_count": 89,
   "metadata": {},
   "outputs": [
    {
     "name": "stdout",
     "output_type": "stream",
     "text": [
      "videoBitrate_In\n",
      "5794.44\n",
      "510.98\n",
      "2863.016590909091\n"
     ]
    }
   ],
   "source": [
    "# videoBitrate_In\n",
    "print('videoBitrate_In')\n",
    "print(max(df1['videoBitrate_In']))\n",
    "print(min(df1['videoBitrate_In']))\n",
    "print(st.mean(df1['videoBitrate_In']))"
   ]
  },
  {
   "cell_type": "code",
   "execution_count": 90,
   "metadata": {},
   "outputs": [
    {
     "name": "stdout",
     "output_type": "stream",
     "text": [
      "videoBitrate_Out\n",
      "1739.17\n",
      "0.0\n",
      "1041.9640909090908\n"
     ]
    }
   ],
   "source": [
    "# videoBitrate_Out\n",
    "print('videoBitrate_Out')\n",
    "print(max(df1['videoBitrate_Out']))\n",
    "print(min(df1['videoBitrate_Out']))\n",
    "print(st.mean(df1['videoBitrate_Out']))"
   ]
  },
  {
   "cell_type": "code",
   "execution_count": 92,
   "metadata": {},
   "outputs": [
    {
     "name": "stdout",
     "output_type": "stream",
     "text": [
      "videoBitrate_In_Max\n",
      "2887.02\n",
      "998.31\n",
      "1432.135\n"
     ]
    }
   ],
   "source": [
    "# videoBitrate_In_Max\n",
    "print('videoBitrate_In_Max')\n",
    "print(max(df1['videoBitrate_In_Max']))\n",
    "print(min(df1['videoBitrate_In_Max']))\n",
    "print(st.mean(df1['videoBitrate_In_Max']))"
   ]
  },
  {
   "cell_type": "code",
   "execution_count": 41,
   "metadata": {},
   "outputs": [
    {
     "name": "stdout",
     "output_type": "stream",
     "text": [
      "0\n"
     ]
    }
   ],
   "source": [
    "#Perca de pacotes vódeo entrada\n",
    "perca_pacotes_video_entrada = df1.query('videoPacketsLoss_In > 0.')\n",
    "print(len(perca_pacotes_video_entrada))"
   ]
  },
  {
   "cell_type": "code",
   "execution_count": 42,
   "metadata": {},
   "outputs": [
    {
     "name": "stdout",
     "output_type": "stream",
     "text": [
      "12\n"
     ]
    }
   ],
   "source": [
    "#Perca de pacotes vódeo saída\n",
    "perca_pacotes_video_saida = df1.query('videoPacketsLoss_Out > 0.')\n",
    "print(len(perca_pacotes_video_saida))"
   ]
  },
  {
   "cell_type": "markdown",
   "metadata": {},
   "source": [
    "<h3>Dados Audio</h3>"
   ]
  },
  {
   "cell_type": "code",
   "execution_count": 78,
   "metadata": {},
   "outputs": [
    {
     "name": "stdout",
     "output_type": "stream",
     "text": [
      "audioBitrate_In\n",
      "204.58\n",
      "22.89\n",
      "108.20693181818181\n"
     ]
    }
   ],
   "source": [
    "# audioBitrate_In\n",
    "print('audioBitrate_In')\n",
    "print(max(df1['audioBitrate_In']))\n",
    "print(min(df1['audioBitrate_In']))\n",
    "print(st.mean(df1['audioBitrate_In']))"
   ]
  },
  {
   "cell_type": "code",
   "execution_count": 76,
   "metadata": {},
   "outputs": [
    {
     "name": "stdout",
     "output_type": "stream",
     "text": [
      "audioBitrate_Out\n",
      "60.51\n",
      "0.0\n",
      "39.94840909090909\n"
     ]
    }
   ],
   "source": [
    "# audioBitrate_Out\n",
    "print('audioBitrate_Out')\n",
    "print(max(df1['audioBitrate_Out']))\n",
    "print(min(df1['audioBitrate_Out']))\n",
    "print(st.mean(df1['audioBitrate_Out']))"
   ]
  },
  {
   "cell_type": "code",
   "execution_count": 74,
   "metadata": {},
   "outputs": [
    {
     "name": "stdout",
     "output_type": "stream",
     "text": [
      "audioBitrate_In_Max\n",
      "427.9\n",
      "32.95\n",
      "116.15659090909091\n"
     ]
    }
   ],
   "source": [
    "#audioBitrate_In_Max\n",
    "print('audioBitrate_In_Max')\n",
    "print(max(df1['audioBitrate_In_Max']))\n",
    "print(min(df1['audioBitrate_In_Max']))\n",
    "print(st.mean(df1['audioBitrate_In_Max']))"
   ]
  },
  {
   "cell_type": "code",
   "execution_count": 72,
   "metadata": {},
   "outputs": [
    {
     "name": "stdout",
     "output_type": "stream",
     "text": [
      "audioBitrate_In_Min\n",
      "27.05\n",
      "0.0\n",
      "4.232045454545455\n"
     ]
    }
   ],
   "source": [
    "#audioBitrate_In_Min\n",
    "print('audioBitrate_In_Min')\n",
    "print(max(df1['audioBitrate_In_Min']))\n",
    "print(min(df1['audioBitrate_In_Min']))\n",
    "print(st.mean(df1['audioBitrate_In_Min']))"
   ]
  },
  {
   "cell_type": "code",
   "execution_count": 79,
   "metadata": {},
   "outputs": [
    {
     "name": "stdout",
     "output_type": "stream",
     "text": [
      "audioBitrate_Out_Max\n",
      "197.21\n",
      "0.0\n",
      "57.544886363636365\n"
     ]
    }
   ],
   "source": [
    "#audioBitrate_Out_Max\n",
    "print('audioBitrate_Out_Max')\n",
    "print(max(df1['audioBitrate_Out_Max']))\n",
    "print(min(df1['audioBitrate_Out_Max']))\n",
    "print(st.mean(df1['audioBitrate_Out_Max']))"
   ]
  },
  {
   "cell_type": "code",
   "execution_count": 80,
   "metadata": {},
   "outputs": [
    {
     "name": "stdout",
     "output_type": "stream",
     "text": [
      "audioBitrate_Out_Min\n",
      "22.21\n",
      "0.0\n",
      "13.258522727272727\n"
     ]
    }
   ],
   "source": [
    "#audioBitrate_Out_Min\n",
    "print('audioBitrate_Out_Min')\n",
    "print(max(df1['audioBitrate_Out_Min']))\n",
    "print(min(df1['audioBitrate_Out_Min']))\n",
    "print(st.mean(df1['audioBitrate_Out_Min']))"
   ]
  },
  {
   "cell_type": "code",
   "execution_count": 81,
   "metadata": {},
   "outputs": [
    {
     "name": "stdout",
     "output_type": "stream",
     "text": [
      "audioJitter_In\n",
      "28.46\n",
      "6.33\n",
      "14.767386363636364\n"
     ]
    }
   ],
   "source": [
    "#audioJitter_In\n",
    "print('audioJitter_In')\n",
    "print(max(df1['audioJitter_In']))\n",
    "print(min(df1['audioJitter_In']))\n",
    "print(st.mean(df1['audioJitter_In']))"
   ]
  },
  {
   "cell_type": "code",
   "execution_count": 82,
   "metadata": {},
   "outputs": [
    {
     "name": "stdout",
     "output_type": "stream",
     "text": [
      "audioJitter_In_Max\n",
      "341\n",
      "11\n",
      "67.01136363636364\n"
     ]
    }
   ],
   "source": [
    "#audioJitter_In_Max\n",
    "print('audioJitter_In_Max')\n",
    "print(max(df1['audioJitter_In_Max']))\n",
    "print(min(df1['audioJitter_In_Max']))\n",
    "print(st.mean(df1['audioJitter_In_Max']))"
   ]
  },
  {
   "cell_type": "code",
   "execution_count": 83,
   "metadata": {},
   "outputs": [
    {
     "name": "stdout",
     "output_type": "stream",
     "text": [
      "audioJitter_Out\n",
      "16.64\n",
      "0.0\n",
      "9.07409090909091\n"
     ]
    }
   ],
   "source": [
    "#audioJitter_Out\n",
    "print('audioJitter_Out')\n",
    "print(max(df1['audioJitter_Out']))\n",
    "print(min(df1['audioJitter_Out']))\n",
    "print(st.mean(df1['audioJitter_Out']))"
   ]
  },
  {
   "cell_type": "code",
   "execution_count": 86,
   "metadata": {},
   "outputs": [
    {
     "name": "stdout",
     "output_type": "stream",
     "text": [
      "audioJitter_Out_Max\n",
      "51.58\n",
      "0.0\n",
      "18.34193181818182\n"
     ]
    }
   ],
   "source": [
    "#audioJitter_Out_Max\n",
    "print('audioJitter_Out_Max')\n",
    "print(max(df1['audioJitter_Out_Max']))\n",
    "print(min(df1['audioJitter_Out_Max']))\n",
    "print(st.mean(df1['audioJitter_Out_Max']))"
   ]
  },
  {
   "cell_type": "code",
   "execution_count": 87,
   "metadata": {},
   "outputs": [
    {
     "name": "stdout",
     "output_type": "stream",
     "text": [
      "audioRoundtrip\n",
      "67.63\n",
      "0.0\n",
      "26.020227272727272\n"
     ]
    }
   ],
   "source": [
    "#audioRoundtrip\n",
    "print('audioRoundtrip')\n",
    "print(max(df1['audioRoundtrip']))\n",
    "print(min(df1['audioRoundtrip']))\n",
    "print(st.mean(df1['audioRoundtrip']))"
   ]
  },
  {
   "cell_type": "code",
   "execution_count": 88,
   "metadata": {},
   "outputs": [
    {
     "name": "stdout",
     "output_type": "stream",
     "text": [
      "audioRoundtrip_Max\n",
      "355\n",
      "0\n",
      "81.9659090909091\n"
     ]
    }
   ],
   "source": [
    "#audioRoundtrip_Max\n",
    "print('audioRoundtrip_Max')\n",
    "print(max(df1['audioRoundtrip_Max']))\n",
    "print(min(df1['audioRoundtrip_Max']))\n",
    "print(st.mean(df1['audioRoundtrip_Max']))"
   ]
  },
  {
   "cell_type": "code",
   "execution_count": 44,
   "metadata": {},
   "outputs": [
    {
     "name": "stdout",
     "output_type": "stream",
     "text": [
      "70\n"
     ]
    }
   ],
   "source": [
    "#Perca de pacotes audio entrada QTD\n",
    "perca_pacotes_audio_entrada = df1.query('audioPacketsLoss_In > 0.')\n",
    "print(len(perca_pacotes_audio_entrada))\n"
   ]
  },
  {
   "cell_type": "code",
   "execution_count": 45,
   "metadata": {},
   "outputs": [
    {
     "name": "stdout",
     "output_type": "stream",
     "text": [
      "87\n"
     ]
    }
   ],
   "source": [
    "#Perca de pacotes audio saída QTD\n",
    "perca_pacotes_audio_saida = df1.query('audioPackets_Out > 0.')\n",
    "print(len(perca_pacotes_audio_saida))"
   ]
  },
  {
   "cell_type": "code",
   "execution_count": 7,
   "metadata": {},
   "outputs": [],
   "source": [
    "erro = df['reason']\n",
    "info = []\n",
    "for i in erro:\n",
    "    info.append(i)"
   ]
  },
  {
   "cell_type": "code",
   "execution_count": 8,
   "metadata": {},
   "outputs": [
    {
     "data": {
      "text/plain": [
       "[\"https:/www.staging.liviasaude.com.br/vendors~main-bdd68c069090be26c58d.js 1:938443 Uncaught TypeError: Cannot read property 'addEventListener' of null\",\n",
       " 'Error while running .navigateTo) protocol action: An unknown error has occurred.',\n",
       " \"https:/www.staging.liviasaude.com.br/vendors~main-bdd68c069090be26c58d.js 1:938443 Uncaught TypeError: Cannot read property 'addEventListener' of null\",\n",
       " 'Error while running .navigateTo) protocol action: An unknown error has occurred.',\n",
       " \"https:/www.staging.liviasaude.com.br/vendors~main-bdd68c069090be26c58d.js 1:938443 Uncaught TypeError: Cannot read property 'addEventListener' of null\",\n",
       " 'Error while running .navigateTo) protocol action: An unknown error has occurred.',\n",
       " \"https:/www.staging.liviasaude.com.br/vendors~main-bdd68c069090be26c58d.js 1:938443 Uncaught TypeError: Cannot read property 'addEventListener' of null\",\n",
       " 'Error while running .navigateTo) protocol action: An unknown error has occurred.',\n",
       " \"https:/www.staging.liviasaude.com.br/vendors~main-bdd68c069090be26c58d.js 1:938443 Uncaught TypeError: Cannot read property 'addEventListener' of null\",\n",
       " 'Error while running .navigateTo) protocol action: An unknown error has occurred.',\n",
       " 'https:/www.staging.liviasaude.com.br/assetslv2/img/seta-link.svg - Failed to load resource: the server responded with a status of 502 (Bad Gateway)',\n",
       " 'Error while running .navigateTo) protocol action: An unknown error has occurred.',\n",
       " \"https:/www.staging.liviasaude.com.br/vendors~main-bdd68c069090be26c58d.js 1:938443 Uncaught TypeError: Cannot read property 'addEventListener' of null\",\n",
       " 'Error while running .navigateTo) protocol action: An unknown error has occurred.',\n",
       " 'Error while running .elementSubmit) protocol action: stale element reference: element is not attached to the page document',\n",
       " 'Error while running .navigateTo) protocol action: An unknown error has occurred.',\n",
       " \"https:/www.staging.liviasaude.com.br/vendors~main-bdd68c069090be26c58d.js 1:938443 Uncaught TypeError: Cannot read property 'addEventListener' of null\",\n",
       " 'Error while running .navigateTo) protocol action: An unknown error has occurred.',\n",
       " \"https:/www.staging.liviasaude.com.br/vendors~main-bdd68c069090be26c58d.js 1:938443 Uncaught TypeError: Cannot read property 'addEventListener' of null\",\n",
       " 'Error while running .navigateTo) protocol action: An unknown error has occurred.',\n",
       " 'https:/www.staging.liviasaude.com.br/assetslv2/js/owl.carousel.min.js - Failed to load resource: the server responded with a status of 502 (Bad Gateway)',\n",
       " 'Error while running .navigateTo) protocol action: An unknown error has occurred.',\n",
       " \"https:/www.staging.liviasaude.com.br/vendors~main-bdd68c069090be26c58d.js 1:938443 Uncaught TypeError: Cannot read property 'addEventListener' of null\",\n",
       " 'Error while running .navigateTo) protocol action: An unknown error has occurred.',\n",
       " 'https:/www.staging.liviasaude.com.br/assetslv2/img/seta-link.svg - Failed to load resource: the server responded with a status of 502 (Bad Gateway)',\n",
       " 'Error while running .navigateTo) protocol action: An unknown error has occurred.',\n",
       " \"https:/www.staging.liviasaude.com.br/vendors~main-bdd68c069090be26c58d.js 1:938443 Uncaught TypeError: Cannot read property 'addEventListener' of null\",\n",
       " 'Error while running .navigateTo) protocol action: An unknown error has occurred.',\n",
       " 'Error while running .elementSubmit) protocol action: stale element reference: element is not attached to the page document',\n",
       " 'Error while running .navigateTo) protocol action: An unknown error has occurred.',\n",
       " \"https:/www.staging.liviasaude.com.br/vendors~main-bdd68c069090be26c58d.js 1:938443 Uncaught TypeError: Cannot read property 'addEventListener' of null\",\n",
       " 'Error while running .navigateTo) protocol action: An unknown error has occurred.',\n",
       " ' Timed out while waiting for element <textarea[name=\"conduct\"]> to be visible for 500000 milliseconds. - expected \"visible\" but got: \"not visible\" (500414ms), waitForElementVisible (\\'textarea[name=\"conduct\"]\\', 500000) (Line:174)',\n",
       " 'Error while running .navigateTo) protocol action: An unknown error has occurred.',\n",
       " 'Error while running .navigateTo) protocol action: An unknown error has occurred.',\n",
       " ' Timed out while waiting for element <#header > div.header-container > div.header-topo > a> to be present for 500000 milliseconds. - expected \"visible\" but got: \"not found\" (500085ms), waitForElementVisible (\\'#header > div.header-container > div.header-topo > a\\', 500000) (Line:196)',\n",
       " 'https:/www.staging.liviasaude.com.br/assetslv2/img/marca-delboni.svg - Failed to load resource: the server responded with a status of 502 (Bad Gateway)',\n",
       " 'Error while running .navigateTo) protocol action: An unknown error has occurred.',\n",
       " 'Error while running .navigateTo) protocol action: An unknown error has occurred.',\n",
       " 'Error while running .navigateTo) protocol action: An unknown error has occurred.',\n",
       " 'https:/www.staging.liviasaude.com.br/assetslv2/img/seta-next.svg - Failed to load resource: the server responded with a status of 502 (Bad Gateway)',\n",
       " 'Error while running .navigateTo) protocol action: An unknown error has occurred.',\n",
       " \"https:/www.staging.liviasaude.com.br/vendors~main-bdd68c069090be26c58d.js 1:938443 Uncaught TypeError: Cannot read property 'addEventListener' of null\",\n",
       " 'Error while running .navigateTo) protocol action: An unknown error has occurred.',\n",
       " 'Error while running .elementSubmit) protocol action: stale element reference: element is not attached to the page document',\n",
       " 'Error while running .navigateTo) protocol action: An unknown error has occurred.',\n",
       " \"https:/www.staging.liviasaude.com.br/vendors~main-bdd68c069090be26c58d.js 1:938443 Uncaught TypeError: Cannot read property 'addEventListener' of null\",\n",
       " 'Error while running .navigateTo) protocol action: An unknown error has occurred.',\n",
       " \"https:/www.staging.liviasaude.com.br/vendors~main-bdd68c069090be26c58d.js 1:938443 Uncaught TypeError: Cannot read property 'addEventListener' of null\",\n",
       " 'Error while running .navigateTo) protocol action: An unknown error has occurred.',\n",
       " \"https:/www.staging.liviasaude.com.br/vendors~main-bdd68c069090be26c58d.js 1:938443 Uncaught TypeError: Cannot read property 'addEventListener' of null\",\n",
       " 'Error while running .navigateTo) protocol action: An unknown error has occurred.',\n",
       " \"https:/www.staging.liviasaude.com.br/vendors~main-bdd68c069090be26c58d.js 1:938443 Uncaught TypeError: Cannot read property 'addEventListener' of null\",\n",
       " 'Error while running .navigateTo) protocol action: An unknown error has occurred.',\n",
       " \"https:/www.staging.liviasaude.com.br/vendors~main-bdd68c069090be26c58d.js 1:938443 Uncaught TypeError: Cannot read property 'addEventListener' of null\",\n",
       " 'Error while running .navigateTo) protocol action: An unknown error has occurred.',\n",
       " \"https:/www.staging.liviasaude.com.br/vendors~main-bdd68c069090be26c58d.js 1:938443 Uncaught TypeError: Cannot read property 'addEventListener' of null\",\n",
       " 'Error while running .navigateTo) protocol action: An unknown error has occurred.',\n",
       " \"https:/www.staging.liviasaude.com.br/vendors~main-bdd68c069090be26c58d.js 1:938443 Uncaught TypeError: Cannot read property 'addEventListener' of null\",\n",
       " 'Error while running .navigateTo) protocol action: An unknown error has occurred.',\n",
       " 'Error while running .elementSubmit) protocol action: stale element reference: element is not attached to the page document',\n",
       " ' Timed out while waiting for element <#header > div.header-container > div.header-topo > a> to be present for 500000 milliseconds. - expected \"visible\" but got: \"not found\" (500264ms), waitForElementVisible (\\'#header > div.header-container > div.header-topo > a\\', 500000) (Line:196)',\n",
       " 'https:/www.staging.liviasaude.com.br/assetslv2/img/marca-delboni.svg - Failed to load resource: the server responded with a status of 502 (Bad Gateway)',\n",
       " 'Error while running .navigateTo) protocol action: An unknown error has occurred.',\n",
       " 'https:/www.staging.liviasaude.com.br/assetslv2/img/seta-next.svg - Failed to load resource: the server responded with a status of 502 (Bad Gateway)',\n",
       " 'Error while running .navigateTo) protocol action: An unknown error has occurred.',\n",
       " 'Test timeout after 1020s',\n",
       " ' Timed out while waiting for element <#header > div.header-container > div.header-topo > a> to be present for 500000 milliseconds. - expected \"visible\" but got: \"not found\" (500470ms), waitForElementVisible (\\'#header > div.header-container > div.header-topo > a\\', 500000) (Line:196)',\n",
       " \"https:/www.staging.liviasaude.com.br/vendors~main-bdd68c069090be26c58d.js 1:938443 Uncaught TypeError: Cannot read property 'addEventListener' of null\",\n",
       " 'Error while running .navigateTo) protocol action: An unknown error has occurred.',\n",
       " 'https:/www.staging.liviasaude.com.br/assetslv2/img/img-consultas-desktop.jpg - Failed to load resource: the server responded with a status of 502 (Bad Gateway)',\n",
       " 'Error while running .navigateTo) protocol action: An unknown error has occurred.',\n",
       " \"https:/www.staging.liviasaude.com.br/vendors~main-bdd68c069090be26c58d.js 1:938443 Uncaught TypeError: Cannot read property 'addEventListener' of null\",\n",
       " 'Error while running .navigateTo) protocol action: An unknown error has occurred.',\n",
       " 'https:/www.staging.liviasaude.com.br/assetslv2/img/img-consultas-desktop.jpg - Failed to load resource: the server responded with a status of 502 (Bad Gateway)',\n",
       " 'Error while running .navigateTo) protocol action: An unknown error has occurred.',\n",
       " \"https:/www.staging.liviasaude.com.br/vendors~main-bdd68c069090be26c58d.js 1:938443 Uncaught TypeError: Cannot read property 'addEventListener' of null\",\n",
       " 'Error while running .navigateTo) protocol action: An unknown error has occurred.',\n",
       " \"https:/www.staging.liviasaude.com.br/vendors~main-bdd68c069090be26c58d.js 1:938443 Uncaught TypeError: Cannot read property 'addEventListener' of null\",\n",
       " 'Error while running .navigateTo) protocol action: An unknown error has occurred.',\n",
       " \"https:/www.staging.liviasaude.com.br/vendors~main-bdd68c069090be26c58d.js 1:938443 Uncaught TypeError: Cannot read property 'addEventListener' of null\",\n",
       " 'Error while running .navigateTo) protocol action: An unknown error has occurred.',\n",
       " \"https:/www.staging.liviasaude.com.br/vendors~main-bdd68c069090be26c58d.js 1:938443 Uncaught TypeError: Cannot read property 'addEventListener' of null\",\n",
       " 'Error while running .navigateTo) protocol action: An unknown error has occurred.',\n",
       " 'https:/www.staging.liviasaude.com.br/assetslv2/img/img-consultas-desktop.jpg - Failed to load resource: the server responded with a status of 502 (Bad Gateway)',\n",
       " 'Error while running .navigateTo) protocol action: An unknown error has occurred.',\n",
       " 'https:/www.staging.liviasaude.com.br/assetslv2/js/scripts.min.js - Failed to load resource: the server responded with a status of 502 (Bad Gateway)',\n",
       " 'Error while running .navigateTo) protocol action: An unknown error has occurred.',\n",
       " 'https:/www.staging.liviasaude.com.br/assetslv2/img/seta-link.svg - Failed to load resource: the server responded with a status of 502 (Bad Gateway)',\n",
       " 'Error while running .navigateTo) protocol action: An unknown error has occurred.',\n",
       " \"https:/www.staging.liviasaude.com.br/vendors~main-bdd68c069090be26c58d.js 1:938443 Uncaught TypeError: Cannot read property 'addEventListener' of null\",\n",
       " 'Error while running .navigateTo) protocol action: An unknown error has occurred.',\n",
       " 'Test timeout after 1020s',\n",
       " 'Error while running .navigateTo) protocol action: An unknown error has occurred.',\n",
       " 'Test timeout after 1020s',\n",
       " ' Timed out while waiting for element <#header > div.header-container > div.header-topo > a> to be present for 500000 milliseconds. - expected \"visible\" but got: \"not found\" (500287ms), waitForElementVisible (\\'#header > div.header-container > div.header-topo > a\\', 500000) (Line:196)',\n",
       " \"https:/www.staging.liviasaude.com.br/vendors~main-bdd68c069090be26c58d.js 1:938443 Uncaught TypeError: Cannot read property 'addEventListener' of null\",\n",
       " 'Error while running .navigateTo) protocol action: An unknown error has occurred.',\n",
       " \"https:/www.staging.liviasaude.com.br/vendors~main-bdd68c069090be26c58d.js 1:938443 Uncaught TypeError: Cannot read property 'addEventListener' of null\",\n",
       " 'Error while running .navigateTo) protocol action: An unknown error has occurred.']"
      ]
     },
     "execution_count": 8,
     "metadata": {},
     "output_type": "execute_result"
    }
   ],
   "source": [
    "info"
   ]
  },
  {
   "cell_type": "code",
   "execution_count": 9,
   "metadata": {},
   "outputs": [
    {
     "data": {
      "text/plain": [
       "100"
      ]
     },
     "execution_count": 9,
     "metadata": {},
     "output_type": "execute_result"
    }
   ],
   "source": [
    "len(info)"
   ]
  },
  {
   "cell_type": "code",
   "execution_count": 11,
   "metadata": {},
   "outputs": [],
   "source": [
    "from pandas_profiling import ProfileReport\n",
    "profile = ProfileReport(df, minimal=True)\n",
    "profile.to_file(\"Analise_dados_04_node_100_50.html\")"
   ]
  },
  {
   "cell_type": "code",
   "execution_count": null,
   "metadata": {},
   "outputs": [],
   "source": []
  }
 ],
 "metadata": {
  "kernelspec": {
   "display_name": "Python 3",
   "language": "python",
   "name": "python3"
  },
  "language_info": {
   "codemirror_mode": {
    "name": "ipython",
    "version": 3
   },
   "file_extension": ".py",
   "mimetype": "text/x-python",
   "name": "python",
   "nbconvert_exporter": "python",
   "pygments_lexer": "ipython3",
   "version": "3.8.5"
  }
 },
 "nbformat": 4,
 "nbformat_minor": 4
}
