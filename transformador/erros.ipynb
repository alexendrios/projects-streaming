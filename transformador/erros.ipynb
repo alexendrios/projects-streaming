{
 "cells": [
  {
   "cell_type": "code",
   "execution_count": 2,
   "metadata": {},
   "outputs": [
    {
     "data": {
      "text/plain": [
       "<_io.TextIOWrapper name='erro.txt' mode='r' encoding='cp1252'>"
      ]
     },
     "execution_count": 2,
     "metadata": {},
     "output_type": "execute_result"
    }
   ],
   "source": [
    "file = open('erro.txt', 'r')\n",
    "file"
   ]
  },
  {
   "cell_type": "code",
   "execution_count": 5,
   "metadata": {},
   "outputs": [],
   "source": [
    "#Gerador de list de CPF\n",
    "def tansformar(arquivo):\n",
    "    array = []\n",
    "    for line in arquivo:\n",
    "        line = line.strip()\n",
    "        array.append(line)\n",
    "    arquivo.close() \n",
    "    return array\n"
   ]
  },
  {
   "cell_type": "code",
   "execution_count": 6,
   "metadata": {},
   "outputs": [],
   "source": [
    "erro = tansformar(file)"
   ]
  },
  {
   "cell_type": "code",
   "execution_count": 7,
   "metadata": {
    "scrolled": true
   },
   "outputs": [
    {
     "name": "stdout",
     "output_type": "stream",
     "text": [
      "['Error while running .navigateTo) protocol action: An unknown error has occurred.', \"https:/www.staging.liviasaude.com.br/vendors~main-bdd68c069090be26c58d.js 1:938443 Uncaught TypeError: Cannot read property 'addEventListener' of null\", 'Error while running .elementSubmit) protocol action: stale element reference: element is not attached to the page document', 'https:/www.staging.liviasaude.com.br/assetslv2/img/img-consultas-mobile.jpg - Failed to load resource: the server responded with a status of 502 (Bad Gateway)', 'Error while running .clickElement) protocol action: stale element reference: element is not attached to the page document', 'https:/www.staging.liviasaude.com.br/assetslv2/img/marca-szd.png - Failed to load resource: the server responded with a status of 502 (Bad Gateway)', 'Timed out while waiting for element <#header > div.header-container > div.header-topo > a> to be present for 500000 milliseconds. - expected \"visible\" but got: \"not found\" (500170ms), waitForElementVisible (\\'#header > div.header-container > div.header-topo > a\\', 500000) (Line:196)', 'https:/www.staging.liviasaude.com.br/assetslv2/js/scripts.min.js - Failed to load resource: the server responded with a status of 502 (Bad Gateway)', 'Timed out while waiting for element <#header > div.header-container > div.header-topo > a> to be present for 500000 milliseconds. - expected \"visible\" but got: \"not found\" (500166ms), waitForElementVisible (\\'#header > div.header-container > div.header-topo > a\\', 500000) (Line:196)', \"https:/www.staging.liviasaude.com.br/vendors~main-bdd68c069090be26c58d.js 1:938443 Uncaught TypeError: Cannot read property 'addEventListener' of null\", 'Error while running .clickElement) protocol action: stale element reference: element is not attached to the page document', 'Error while running .navigateTo) protocol action: An unknown error has occurred.', 'https:/www.staging.liviasaude.com.br/vendors~main-bdd68c069090be26c58d.js 1:944575 Se', 'https:/www.staging.liviasaude.com.br/assetslv2/img/marca-alta.svg - Failed to load resource: the server responded with a status of 502 (Bad Gateway)', 'https:/www.staging.liviasaude.com.br/assetslv2/img/header-desktop.jpg - Failed to load resource: the server responded with a status of 502 (Bad Gateway)', 'Error while running .elementSubmit) protocol action: stale element reference: element is not attached to the page document', 'https:/www.staging.liviasaude.com.br/assetslv2/img/seta-next.svg - Failed to load resource: the server responded with a status of 502 (Bad Gateway)', 'https:/www.staging.liviasaude.com.br/assetslv2/img/img-consultas-desktop.jpg - Failed to load resource: the server responded with a status of 502 (Bad Gateway)', 'https:/www.staging.liviasaude.com.br/assetslv2/img/seta-link.svg - Failed to load resource: the server responded with a status of 502 (Bad Gateway)', \"https:/www.staging.liviasaude.com.br/vendors~main-bdd68c069090be26c58d.js 1:938443 Uncaught TypeError: Cannot read property 'addEventListener' of null\", 'https:/www.staging.liviasaude.com.br/vendors~main-bdd68c069090be26c58d.js 1:944575 Se', 'https:/www.staging.liviasaude.com.br/assetslv2/img/logo-livia-azul.svg - Failed to load resource: the server responded with a status of 502 (Bad Gateway)', 'Error while running .clickElement) protocol action: stale element reference: element is not attached to the page document', 'https:/www.staging.liviasaude.com.br/assetslv2/img/marca-delboni.svg - Failed to load resource: the server responded with a status of 502 (Bad Gateway)', 'Timed out while waiting for element <a.video-attendance-card__link> to be present for 500000 milliseconds. - expected \"visible\" but got: \"not found\" (500097ms), waitForElementVisible (\\'a.video-attendance-card__link\\', 500000) (Line:53)', 'https:/www.staging.liviasaude.com.br/assetslv2/js/jquery.min.js - Failed to load resource: the server responded with a status of 502 (Bad Gateway)', 'Timed out while waiting for element <div.card-in-call__body div.card-in-call__content div.card-in-call__timer> to be present for 500000 milliseconds. - expected \"visible\" but got: \"not found\" (500255ms), waitForElementVisible (\\'div.card-in-call__body div.card-in-call__content div.card-in-call__timer\\', 500000) (Line:214)', 'https:/www.staging.liviasaude.com.br/assetslv2/img/img-consultas-mobile-maior.jpg - Failed to load resource: the server responded with a status of 502 (Bad Gateway)', 'Error while running .navigateTo) protocol action: An unknown error has occurred.', \"https:/www.staging.liviasaude.com.br/vendors~main-bdd68c069090be26c58d.js 1:938443 Uncaught TypeError: Cannot read property 'addEven\", 'Error while running .elementSubmit) protocol action: stale element reference: element is not attached to the page document.', 'https:/www.staging.liviasaude.com.br/assetslv2/img/img-consultas-desktop.jpg - Failed to load resource: the server responded with a status of 5', 'Test timeout after 1020s', 'https:/www.staging.liviasaude.com.br/assetslv2/img/seta-link.svg - Failed to load resource: the server responded with a status of 502 (Bad Gatew', 'https:/www.staging.liviasaude.com.br/assetslv2/img/marca-delboni.svg - Failed to load resource: the server responded with a status of 502 (Bad', 'https:/www.staging.liviasaude.com.br/assetslv2/img/seta-next.svg - Failed to load resource: the server responded with a status of 502 (Bad Gate', 'Timed out while waiting for element <#header > div.header-container > div.header-topo > a> to be present for 500000 milliseconds. - expected \"v']\n",
      "______________________________\n",
      "Quantidade de Registros: 37\n"
     ]
    }
   ],
   "source": [
    "print(erro)\n",
    "print(\"______________________________\\nQuantidade de Registros:\",len(erro))"
   ]
  },
  {
   "cell_type": "code",
   "execution_count": 8,
   "metadata": {},
   "outputs": [],
   "source": [
    "def remove_repetidos(lista):\n",
    "    l = []\n",
    "    for i in lista:\n",
    "        if i not in l:\n",
    "            l.append(i)\n",
    "    l.sort()\n",
    "    return l"
   ]
  },
  {
   "cell_type": "code",
   "execution_count": 9,
   "metadata": {},
   "outputs": [
    {
     "name": "stdout",
     "output_type": "stream",
     "text": [
      "29\n"
     ]
    }
   ],
   "source": [
    "dados = remove_repetidos(erro)\n",
    "print(len(dados))\n",
    "\n"
   ]
  },
  {
   "cell_type": "code",
   "execution_count": 10,
   "metadata": {},
   "outputs": [
    {
     "name": "stdout",
     "output_type": "stream",
     "text": [
      "Error while running .clickElement) protocol action: stale element reference: element is not attached to the page document\n",
      "Error while running .elementSubmit) protocol action: stale element reference: element is not attached to the page document\n",
      "Error while running .elementSubmit) protocol action: stale element reference: element is not attached to the page document.\n",
      "Error while running .navigateTo) protocol action: An unknown error has occurred.\n",
      "Test timeout after 1020s\n",
      "Timed out while waiting for element <#header > div.header-container > div.header-topo > a> to be present for 500000 milliseconds. - expected \"v\n",
      "Timed out while waiting for element <#header > div.header-container > div.header-topo > a> to be present for 500000 milliseconds. - expected \"visible\" but got: \"not found\" (500166ms), waitForElementVisible ('#header > div.header-container > div.header-topo > a', 500000) (Line:196)\n",
      "Timed out while waiting for element <#header > div.header-container > div.header-topo > a> to be present for 500000 milliseconds. - expected \"visible\" but got: \"not found\" (500170ms), waitForElementVisible ('#header > div.header-container > div.header-topo > a', 500000) (Line:196)\n",
      "Timed out while waiting for element <a.video-attendance-card__link> to be present for 500000 milliseconds. - expected \"visible\" but got: \"not found\" (500097ms), waitForElementVisible ('a.video-attendance-card__link', 500000) (Line:53)\n",
      "Timed out while waiting for element <div.card-in-call__body div.card-in-call__content div.card-in-call__timer> to be present for 500000 milliseconds. - expected \"visible\" but got: \"not found\" (500255ms), waitForElementVisible ('div.card-in-call__body div.card-in-call__content div.card-in-call__timer', 500000) (Line:214)\n",
      "https:/www.staging.liviasaude.com.br/assetslv2/img/header-desktop.jpg - Failed to load resource: the server responded with a status of 502 (Bad Gateway)\n",
      "https:/www.staging.liviasaude.com.br/assetslv2/img/img-consultas-desktop.jpg - Failed to load resource: the server responded with a status of 5\n",
      "https:/www.staging.liviasaude.com.br/assetslv2/img/img-consultas-desktop.jpg - Failed to load resource: the server responded with a status of 502 (Bad Gateway)\n",
      "https:/www.staging.liviasaude.com.br/assetslv2/img/img-consultas-mobile-maior.jpg - Failed to load resource: the server responded with a status of 502 (Bad Gateway)\n",
      "https:/www.staging.liviasaude.com.br/assetslv2/img/img-consultas-mobile.jpg - Failed to load resource: the server responded with a status of 502 (Bad Gateway)\n",
      "https:/www.staging.liviasaude.com.br/assetslv2/img/logo-livia-azul.svg - Failed to load resource: the server responded with a status of 502 (Bad Gateway)\n",
      "https:/www.staging.liviasaude.com.br/assetslv2/img/marca-alta.svg - Failed to load resource: the server responded with a status of 502 (Bad Gateway)\n",
      "https:/www.staging.liviasaude.com.br/assetslv2/img/marca-delboni.svg - Failed to load resource: the server responded with a status of 502 (Bad\n",
      "https:/www.staging.liviasaude.com.br/assetslv2/img/marca-delboni.svg - Failed to load resource: the server responded with a status of 502 (Bad Gateway)\n",
      "https:/www.staging.liviasaude.com.br/assetslv2/img/marca-szd.png - Failed to load resource: the server responded with a status of 502 (Bad Gateway)\n",
      "https:/www.staging.liviasaude.com.br/assetslv2/img/seta-link.svg - Failed to load resource: the server responded with a status of 502 (Bad Gatew\n",
      "https:/www.staging.liviasaude.com.br/assetslv2/img/seta-link.svg - Failed to load resource: the server responded with a status of 502 (Bad Gateway)\n",
      "https:/www.staging.liviasaude.com.br/assetslv2/img/seta-next.svg - Failed to load resource: the server responded with a status of 502 (Bad Gate\n",
      "https:/www.staging.liviasaude.com.br/assetslv2/img/seta-next.svg - Failed to load resource: the server responded with a status of 502 (Bad Gateway)\n",
      "https:/www.staging.liviasaude.com.br/assetslv2/js/jquery.min.js - Failed to load resource: the server responded with a status of 502 (Bad Gateway)\n",
      "https:/www.staging.liviasaude.com.br/assetslv2/js/scripts.min.js - Failed to load resource: the server responded with a status of 502 (Bad Gateway)\n",
      "https:/www.staging.liviasaude.com.br/vendors~main-bdd68c069090be26c58d.js 1:938443 Uncaught TypeError: Cannot read property 'addEven\n",
      "https:/www.staging.liviasaude.com.br/vendors~main-bdd68c069090be26c58d.js 1:938443 Uncaught TypeError: Cannot read property 'addEventListener' of null\n",
      "https:/www.staging.liviasaude.com.br/vendors~main-bdd68c069090be26c58d.js 1:944575 Se\n"
     ]
    }
   ],
   "source": [
    "for i in dados:\n",
    "    print(i)"
   ]
  }
 ],
 "metadata": {
  "kernelspec": {
   "display_name": "Python 3",
   "language": "python",
   "name": "python3"
  },
  "language_info": {
   "codemirror_mode": {
    "name": "ipython",
    "version": 3
   },
   "file_extension": ".py",
   "mimetype": "text/x-python",
   "name": "python",
   "nbconvert_exporter": "python",
   "pygments_lexer": "ipython3",
   "version": "3.8.5"
  }
 },
 "nbformat": 4,
 "nbformat_minor": 4
}
