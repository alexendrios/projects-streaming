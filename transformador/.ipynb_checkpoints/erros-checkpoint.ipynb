{
 "cells": [
  {
   "cell_type": "code",
   "execution_count": 105,
   "metadata": {},
   "outputs": [],
   "source": [
    "file_1 = open('./massa/medico.txt', 'r')\n",
    "file_2 = open('./massa/paciente.txt', 'r')"
   ]
  },
  {
   "cell_type": "code",
   "execution_count": 102,
   "metadata": {},
   "outputs": [],
   "source": [
    "#Gerador de list de CPF\n",
    "def tansformar(arquivo):\n",
    "    array = []\n",
    "    for line in arquivo:\n",
    "        line = line.strip()\n",
    "        array.append(line)\n",
    "    arquivo.close() \n",
    "    return array\n"
   ]
  },
  {
   "cell_type": "code",
   "execution_count": 106,
   "metadata": {},
   "outputs": [],
   "source": [
    "cpf_medico = tansformar(file_1)\n",
    "cpf_paciente = tansformar(file_2)"
   ]
  },
  {
   "cell_type": "code",
   "execution_count": 107,
   "metadata": {
    "scrolled": true
   },
   "outputs": [
    {
     "name": "stdout",
     "output_type": "stream",
     "text": [
      "['42388517303', '72193801002', '42886592641', '77830687072', '83212952407', '97353362782', '51447648862', '66174784878', '39836111174', '62359351370', '74721135653', '67143103233', '52507078405', '88264408753', '39421318625', '45540743660', '21371476292', '77281262299', '68332970539', '76273055270', '54897851106', '03525118180', '43137055032', '47609262838', '42138153150', '99397406973', '81119812100', '49338317005', '73342697482', '16643326346', '58028179843', '31025311132', '84544369100', '94883546071', '80266236812', '74480144552', '35248163471', '57862772326', '88268984643', '38151104678', '27352464000', '42977827315', '52299011790', '29836761535', '28855322117', '76419481201', '63889448259', '73859956400', '24882911965', '61318433924', '37112252687', '27425345803', '91563682400', '54522648928', '65661751133', '52231257890', '56859271426', '45042141642', '55934144162', '18244142502', '62621772307', '02853516059', '77803176844', '46272460139', '82595899406', '51981883010', '57895206850', '01541702409', '61666504181', '87670014750', '88268968281', '13371667405', '25512558803', '37950487020', '71272175219', '56368255528', '67068887023', '80769578500', '64457786748', '69801360895', '98725334662', '78428221235', '50025885650', '16527775555', '5608156854', '79866202186', '83404534328', '22184107379', '26163106784', '58731475400', '10151577340', '98078141548', '46595217708', '74633734105', '58631830208', '70834332671', '87780210650', '21951630114', '31886116768', '55888701661']\n",
      "______________________________\n",
      "Quantidade de Registros: 100\n"
     ]
    }
   ],
   "source": [
    "print(cpf_medico)\n",
    "print(\"______________________________\\nQuantidade de Registros:\",len(cpf_medico))"
   ]
  },
  {
   "cell_type": "code",
   "execution_count": 108,
   "metadata": {
    "scrolled": true
   },
   "outputs": [
    {
     "name": "stdout",
     "output_type": "stream",
     "text": [
      "['88641412352', '48357838324', '23303883220', '99552363454', '55543122179', '13388675716', '49084818903', '21912264935', '66362703650', '47145182670', '10541549375', '51201730716', '89948375742', '44115365870', '33824204657', '83859401203', '06829162858', '52887851470', '96658725918', '11832556832', '15854299968', '75667284154', '44490760442', '84635242650', '30313246092', '73865133720', '65514590135', '63297910585', '53432647514', '72181154112', '49411153763', '43562553137', '19348077104', '23338893574', '18518106176', '11553881354', '68555342104', '89335916307', '22361397480', '56585188306', '29896186430', '37848967409', '86525310482', '62480387755', '14999722704', '34606882468', '85672028179', '21681567199', '49666655233', '47607634908', '32977571590', '67153775889', '74451915260', '72428811886', '35378410606', '64677633274', '15420652323', '84644204129', '88680955302', '28644321021', '52858865116', '61866412361', '14639311400', '52484382685', '82216851604', '91322611793', '04396758472', '22776675879', '44868622447', '73257673230', '18845143325', '61153693399', '34182395956', '36652433788', '93266761022', '28312155872', '13425420291', '75869733260', '44643452129', '77608387785', '57941573130', '80372389899', '64634012260', '34373886571', '89297786669', '52272145221', '29066534117', '52781633305', '37635688839', '45821580218', '71851507604', '37758517633', '82901231756', '15433122506', '72347285386', '46665422720', '84852134324', '73741716847', '46241561537', '39779722351']\n",
      "______________________________\n",
      "Quantidade de Registros: 100\n"
     ]
    }
   ],
   "source": [
    "print(cpf_paciente)\n",
    "print(\"______________________________\\nQuantidade de Registros:\",len(cpf_paciente))"
   ]
  },
  {
   "cell_type": "code",
   "execution_count": 109,
   "metadata": {},
   "outputs": [],
   "source": [
    "def remove_repetidos(lista):\n",
    "    l = []\n",
    "    for i in lista:\n",
    "        if i not in l:\n",
    "            l.append(i)\n",
    "    l.sort()\n",
    "    return l"
   ]
  },
  {
   "cell_type": "code",
   "execution_count": 110,
   "metadata": {},
   "outputs": [
    {
     "name": "stdout",
     "output_type": "stream",
     "text": [
      "100\n",
      "100\n"
     ]
    }
   ],
   "source": [
    "dados_medico = remove_repetidos(cpf_medico)\n",
    "dados_paciente = remove_repetidos(cpf_paciente)\n",
    "print(len(dados_medico))\n",
    "print(len(dados_paciente))\n"
   ]
  },
  {
   "cell_type": "code",
   "execution_count": 239,
   "metadata": {},
   "outputs": [
    {
     "name": "stdout",
     "output_type": "stream",
     "text": [
      "['Test Streaming Performance 1', 'Test Streaming Performance 2', 'Test Streaming Performance 3', 'Test Streaming Performance 4', 'Test Streaming Performance 5', 'Test Streaming Performance 6', 'Test Streaming Performance 7', 'Test Streaming Performance 8', 'Test Streaming Performance 9', 'Test Streaming Performance 10', 'Test Streaming Performance 11', 'Test Streaming Performance 12', 'Test Streaming Performance 13', 'Test Streaming Performance 14', 'Test Streaming Performance 15', 'Test Streaming Performance 16', 'Test Streaming Performance 17', 'Test Streaming Performance 18', 'Test Streaming Performance 19', 'Test Streaming Performance 20', 'Test Streaming Performance 21', 'Test Streaming Performance 22', 'Test Streaming Performance 23', 'Test Streaming Performance 24', 'Test Streaming Performance 25', 'Test Streaming Performance 26', 'Test Streaming Performance 27', 'Test Streaming Performance 28', 'Test Streaming Performance 29', 'Test Streaming Performance 30', 'Test Streaming Performance 31', 'Test Streaming Performance 32', 'Test Streaming Performance 33', 'Test Streaming Performance 34', 'Test Streaming Performance 35', 'Test Streaming Performance 36', 'Test Streaming Performance 37', 'Test Streaming Performance 38', 'Test Streaming Performance 39', 'Test Streaming Performance 40', 'Test Streaming Performance 41', 'Test Streaming Performance 42', 'Test Streaming Performance 43', 'Test Streaming Performance 44', 'Test Streaming Performance 45', 'Test Streaming Performance 46', 'Test Streaming Performance 47', 'Test Streaming Performance 48', 'Test Streaming Performance 49', 'Test Streaming Performance 50', 'Test Streaming Performance 51', 'Test Streaming Performance 52', 'Test Streaming Performance 53', 'Test Streaming Performance 54', 'Test Streaming Performance 55', 'Test Streaming Performance 56', 'Test Streaming Performance 57', 'Test Streaming Performance 58', 'Test Streaming Performance 59', 'Test Streaming Performance 60', 'Test Streaming Performance 61', 'Test Streaming Performance 62', 'Test Streaming Performance 63', 'Test Streaming Performance 64', 'Test Streaming Performance 65', 'Test Streaming Performance 66', 'Test Streaming Performance 67', 'Test Streaming Performance 68', 'Test Streaming Performance 69', 'Test Streaming Performance 70', 'Test Streaming Performance 71', 'Test Streaming Performance 72', 'Test Streaming Performance 73', 'Test Streaming Performance 74', 'Test Streaming Performance 75', 'Test Streaming Performance 76', 'Test Streaming Performance 77', 'Test Streaming Performance 78', 'Test Streaming Performance 79', 'Test Streaming Performance 80', 'Test Streaming Performance 81', 'Test Streaming Performance 82', 'Test Streaming Performance 83', 'Test Streaming Performance 84', 'Test Streaming Performance 85', 'Test Streaming Performance 86', 'Test Streaming Performance 87', 'Test Streaming Performance 88', 'Test Streaming Performance 89', 'Test Streaming Performance 90', 'Test Streaming Performance 91', 'Test Streaming Performance 92', 'Test Streaming Performance 93', 'Test Streaming Performance 94', 'Test Streaming Performance 95', 'Test Streaming Performance 96', 'Test Streaming Performance 97', 'Test Streaming Performance 98', 'Test Streaming Performance 99', 'Test Streaming Performance 100']\n",
      "100\n"
     ]
    }
   ],
   "source": [
    "ident_paciente = []\n",
    "for i in range(1,101):\n",
    "    info = \"Test Streaming Performance \" +str(i)  \n",
    "    ident_paciente.append(info)\n",
    "    \n",
    "print(ident_paciente)\n",
    "print(len(ident_paciente))"
   ]
  },
  {
   "cell_type": "code",
   "execution_count": 3,
   "metadata": {},
   "outputs": [],
   "source": [
    "import random\n",
    "def dados_nacismento(min,max):   \n",
    "    for i in range(min,max):\n",
    "        arg = random.randint(min,max)\n",
    "        if not (arg < 10):\n",
    "            return arg \n",
    " "
   ]
  },
  {
   "cell_type": "code",
   "execution_count": 256,
   "metadata": {},
   "outputs": [],
   "source": [
    "def geracaoDataNascimento():\n",
    "    dia = dados_nacismento(1,30)\n",
    "    mes = dados_nacismento(10,12)\n",
    "    ano = dados_nacismento(1949,2000)\n",
    "    return str(dia)+\"/\"+str(mes)+\"/\"+str(ano)"
   ]
  },
  {
   "cell_type": "code",
   "execution_count": 257,
   "metadata": {},
   "outputs": [
    {
     "name": "stdout",
     "output_type": "stream",
     "text": [
      "['19/12/1971', '15/11/1984', '12/12/1996', '29/12/1964', '16/11/1982', '11/11/1974', '18/12/1984', '12/12/1964', '29/11/1987', '13/11/1966', '22/10/1981', '30/11/2000', '21/11/1978', '15/11/1985', '11/12/1997', '30/11/1975', '14/12/1958', '13/10/1964', '20/12/1983', '15/12/1950', '14/11/1949', '14/11/1961', '14/11/1972', '17/11/1951', '30/10/1968', '22/11/1952', '15/10/1986', '28/10/1951', '12/10/1975', '24/10/1995', '23/11/1997', '12/11/1965', '25/10/1956', '18/11/1953', '27/11/1949', '10/11/1976', '19/12/1967', '17/12/1960', '22/12/1953', '21/12/1983', '18/11/1956', '10/12/1952', '10/12/1982', '30/12/1997', '18/10/1998', '17/12/1977', '15/12/1979', '17/10/1955', '28/12/1990', '18/10/1985', '25/10/1986', '25/10/1962', '25/10/1949', '21/12/1959', '14/12/1970', '14/11/1949', '29/11/1960', '10/10/1981', '17/12/1995', '17/11/1980', '30/12/2000', '25/12/1970', '14/12/1969', '14/12/1950', '13/10/1964', '11/10/1980', '12/12/1963', '23/11/1969', '10/12/1984', '30/11/1950', '28/10/1979', '24/11/1960', '18/12/1963', '10/12/1984', '10/10/1978', '27/12/1962', '18/12/1989', '10/11/1962', '11/10/1991', '19/11/1972', '24/11/1975', '27/12/1965', '27/10/1973', '20/12/1973', '13/11/1975', '11/12/1951', '16/10/1960', '16/11/1991', '24/10/1970', '11/12/1969', '15/10/1972', '22/12/1951', '26/11/1991', '29/10/1953', '18/11/1988', '16/12/1962', '17/11/1980', '25/10/1950', '16/12/1983', '23/12/1965']\n"
     ]
    }
   ],
   "source": [
    "data_nascimento = []\n",
    "for i in range(1,101):\n",
    "    data_nascimento.append(geracaoDataNascimento())\n",
    "\n",
    "print(data_nascimento)"
   ]
  },
  {
   "cell_type": "code",
   "execution_count": 258,
   "metadata": {},
   "outputs": [
    {
     "name": "stdout",
     "output_type": "stream",
     "text": [
      "['robo1@test.com', 'robo2@test.com', 'robo3@test.com', 'robo4@test.com', 'robo5@test.com', 'robo6@test.com', 'robo7@test.com', 'robo8@test.com', 'robo9@test.com', 'robo10@test.com', 'robo11@test.com', 'robo12@test.com', 'robo13@test.com', 'robo14@test.com', 'robo15@test.com', 'robo16@test.com', 'robo17@test.com', 'robo18@test.com', 'robo19@test.com', 'robo20@test.com', 'robo21@test.com', 'robo22@test.com', 'robo23@test.com', 'robo24@test.com', 'robo25@test.com', 'robo26@test.com', 'robo27@test.com', 'robo28@test.com', 'robo29@test.com', 'robo30@test.com', 'robo31@test.com', 'robo32@test.com', 'robo33@test.com', 'robo34@test.com', 'robo35@test.com', 'robo36@test.com', 'robo37@test.com', 'robo38@test.com', 'robo39@test.com', 'robo40@test.com', 'robo41@test.com', 'robo42@test.com', 'robo43@test.com', 'robo44@test.com', 'robo45@test.com', 'robo46@test.com', 'robo47@test.com', 'robo48@test.com', 'robo49@test.com', 'robo50@test.com', 'robo51@test.com', 'robo52@test.com', 'robo53@test.com', 'robo54@test.com', 'robo55@test.com', 'robo56@test.com', 'robo57@test.com', 'robo58@test.com', 'robo59@test.com', 'robo60@test.com', 'robo61@test.com', 'robo62@test.com', 'robo63@test.com', 'robo64@test.com', 'robo65@test.com', 'robo66@test.com', 'robo67@test.com', 'robo68@test.com', 'robo69@test.com', 'robo70@test.com', 'robo71@test.com', 'robo72@test.com', 'robo73@test.com', 'robo74@test.com', 'robo75@test.com', 'robo76@test.com', 'robo77@test.com', 'robo78@test.com', 'robo79@test.com', 'robo80@test.com', 'robo81@test.com', 'robo82@test.com', 'robo83@test.com', 'robo84@test.com', 'robo85@test.com', 'robo86@test.com', 'robo87@test.com', 'robo88@test.com', 'robo89@test.com', 'robo90@test.com', 'robo91@test.com', 'robo92@test.com', 'robo93@test.com', 'robo94@test.com', 'robo95@test.com', 'robo96@test.com', 'robo97@test.com', 'robo98@test.com', 'robo99@test.com', 'robo100@test.com']\n",
      "100\n"
     ]
    }
   ],
   "source": [
    "list_email = []   \n",
    "for i in range(1,101):\n",
    "    dados = \"robo\"+str(i)+\"@test.com\"\n",
    "    list_email.append(dados)\n",
    "\n",
    "print(list_email)\n",
    "print(len(list_email))"
   ]
  },
  {
   "cell_type": "code",
   "execution_count": 4,
   "metadata": {
    "scrolled": true
   },
   "outputs": [
    {
     "name": "stdout",
     "output_type": "stream",
     "text": [
      "['(51)993208177', '(51)999208515', '(51)997703542', '(51)990899687', '(51)990805232', '(51)991304689', '(51)997611208', '(51)999055480', '(51)996606780', '(51)998434174', '(51)999067683', '(51)996534473', '(51)998122285', '(51)996375375', '(51)999574260', '(51)999742301', '(51)995526725', '(51)992717409', '(51)999428966', '(51)997283885', '(51)992166723', '(51)992580820', '(51)999488189', '(51)999024456', '(51)993044169', '(51)991953127', '(51)993076701', '(51)992319550', '(51)998602771', '(51)996598714', '(51)993488057', '(51)994381190', '(51)999427668', '(51)990884802', '(51)997238893', '(51)992224022', '(51)990901774', '(51)993509767', '(51)994292494', '(51)993646682', '(51)990376422', '(51)995882820', '(51)994019828', '(51)994981948', '(51)998481103', '(51)993819300', '(51)996681731', '(51)997157712', '(51)990727170', '(51)992563980', '(51)991383827', '(51)993068365', '(51)992818723', '(51)996444833', '(51)994779371', '(51)990555031', '(51)990368166', '(51)995394981', '(51)997643533', '(51)995434032', '(51)994782796', '(51)999283591', '(51)997456066', '(51)998237252', '(51)997124067', '(51)996309784', '(51)996667045', '(51)995450497', '(51)999654962', '(51)995126307', '(51)993810059', '(51)990837561', '(51)995303247', '(51)994827500', '(51)993696535', '(51)998632919', '(51)999609722', '(51)998706240', '(51)991907890', '(51)998338689', '(51)990784832', '(51)990340972', '(51)990092802', '(51)998657254', '(51)992562744', '(51)995874732', '(51)997835783', '(51)996057859', '(51)998999615', '(51)993170527', '(51)997712015', '(51)994515060', '(51)993075221', '(51)995591528', '(51)994693110', '(51)996587288', '(51)993993513', '(51)995308724', '(51)992702180', '(51)991863101']\n"
     ]
    }
   ],
   "source": [
    "list_telefone = []\n",
    "for i in range(1,101):\n",
    "    dados = \"(51)99{}{}{}{}{}{}{}\".format(\n",
    "        random.randint(0,9),\n",
    "        random.randint(0,9),\n",
    "        random.randint(0,9),\n",
    "        random.randint(0,9),\n",
    "        random.randint(0,9),\n",
    "        random.randint(0,9),\n",
    "        random.randint(0,9)\n",
    "    )\n",
    "    list_telefone.append(dados)\n",
    "\n",
    "print(list_telefone)\n",
    "    "
   ]
  }
 ],
 "metadata": {
  "kernelspec": {
   "display_name": "Python 3",
   "language": "python",
   "name": "python3"
  },
  "language_info": {
   "codemirror_mode": {
    "name": "ipython",
    "version": 3
   },
   "file_extension": ".py",
   "mimetype": "text/x-python",
   "name": "python",
   "nbconvert_exporter": "python",
   "pygments_lexer": "ipython3",
   "version": "3.8.5"
  }
 },
 "nbformat": 4,
 "nbformat_minor": 4
}
